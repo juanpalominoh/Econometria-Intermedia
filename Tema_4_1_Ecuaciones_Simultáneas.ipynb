{
  "nbformat": 4,
  "nbformat_minor": 0,
  "metadata": {
    "colab": {
      "provenance": [],
      "authorship_tag": "ABX9TyO94cXsR7k2MF1Xj34QB1ue",
      "include_colab_link": true
    },
    "kernelspec": {
      "name": "ir",
      "display_name": "R"
    },
    "language_info": {
      "name": "R"
    }
  },
  "cells": [
    {
      "cell_type": "markdown",
      "metadata": {
        "id": "view-in-github",
        "colab_type": "text"
      },
      "source": [
        "<a href=\"https://colab.research.google.com/github/juanpalominoh/Econometria-Intermedia/blob/main/Tema_4_1_Ecuaciones_Simult%C3%A1neas.ipynb\" target=\"_parent\"><img src=\"https://colab.research.google.com/assets/colab-badge.svg\" alt=\"Open In Colab\"/></a>"
      ]
    },
    {
      "cell_type": "markdown",
      "source": [
        "# **Ecuaciones Simultáneas**"
      ],
      "metadata": {
        "id": "YUosPo_hNZ2H"
      }
    },
    {
      "cell_type": "code",
      "execution_count": null,
      "metadata": {
        "colab": {
          "base_uri": "https://localhost:8080/"
        },
        "id": "OYtDunWfNHlG",
        "outputId": "1a6973fb-e770-4873-caf5-b3ca8159804f"
      },
      "outputs": [
        {
          "output_type": "stream",
          "name": "stderr",
          "text": [
            "Installing package into ‘/usr/local/lib/R/site-library’\n",
            "(as ‘lib’ is unspecified)\n",
            "\n"
          ]
        }
      ],
      "source": [
        "# Instalamos paquetes \n",
        "install.packages(\"foreign\")  # Leer base de datos de Stata\n",
        "install.packages(\"skimr\")    # Realizar descripción estadística\n",
        "install.packages(\"AER\")      # Estimar MC2E\n",
        "install.packages(\"memisc\")   # Paquete para realizar tablas"
      ]
    },
    {
      "cell_type": "code",
      "source": [
        "# Cargamos librerias\n",
        "library(foreign)\n",
        "library(dplyr)\n",
        "library(skimr)\n",
        "library(AER)\n",
        "library(memisc)"
      ],
      "metadata": {
        "colab": {
          "base_uri": "https://localhost:8080/"
        },
        "id": "FrL765HAOUws",
        "outputId": "715de8dc-7711-44b8-8d92-102ace7f8203"
      },
      "execution_count": null,
      "outputs": [
        {
          "output_type": "stream",
          "name": "stderr",
          "text": [
            "\n",
            "Attaching package: ‘dplyr’\n",
            "\n",
            "\n",
            "The following objects are masked from ‘package:stats’:\n",
            "\n",
            "    filter, lag\n",
            "\n",
            "\n",
            "The following objects are masked from ‘package:base’:\n",
            "\n",
            "    intersect, setdiff, setequal, union\n",
            "\n",
            "\n"
          ]
        }
      ]
    },
    {
      "cell_type": "markdown",
      "source": [
        "## **Oferta y demanda laboral de mujeres trabajadoras**"
      ],
      "metadata": {
        "id": "fFtYe_JxQ0Oi"
      }
    },
    {
      "cell_type": "markdown",
      "source": [
        "**Oferta laboral de mujeres trabajadoras y casadas (horas trabajadas)**\n",
        "\n",
        "\\begin{gather*}\n",
        "hours=\\beta_{0} + \\beta_{1}lwage + \\beta_{2}educ+ \\beta_{3}age + \\beta_{4}kidslt6 + \\beta_{5}nwifeinc + \\epsilon_{1}\n",
        "\\end{gather*}\n",
        "\n",
        "donde `kidslt6` es el número de hijos que tienen menos de seis años de edad y `nwifeinc`es el ingreso no salarial de la mujer (que incluye los ingresos de su cónyuge)."
      ],
      "metadata": {
        "id": "xIuPVZebO4LM"
      }
    },
    {
      "cell_type": "markdown",
      "source": [
        "**Demanda laboral de mujeres trabajadoras y casadas (oferta salarial)**\n",
        "\n",
        "\\begin{gather*}\n",
        "lwage = \\alpha_{0} + \\alpha_{1}hours + \\alpha_{2}educ + \\alpha_{3}exper + \\alpha_{4}exper^{2} + \\epsilon_{2}\n",
        "\\end{gather*}\n",
        "\n",
        "donde `age`(edad en años), `kidslt6`(número de niños), `nwifeinc` (ingreso no salarial de la mujer) son determinantes de la oferta de trabajo (`hours`), pero no de la demanda de trabajo (salario pagado) y puede ser un instrumento para `lwage`.\n",
        "\n",
        "Asimismo, `experience` es un determinante de `lwage` pero no de cuántas horas trabajan las mujeres y puede ser usado como un instrumento para `hours`."
      ],
      "metadata": {
        "id": "8LOmh_QxPpL_"
      }
    },
    {
      "cell_type": "code",
      "source": [
        "# Cargar base de datos\n",
        "base <- read.dta(\"/content/MROZ.dta\", convert.factors = FALSE)\n",
        "base"
      ],
      "metadata": {
        "id": "BPYamPsPN5CR"
      },
      "execution_count": null,
      "outputs": []
    },
    {
      "cell_type": "code",
      "source": [
        "# Solo mujeres que trabajan y variables que interesan\n",
        "base <- base %>%\n",
        "  filter(inlf == 1) %>%\n",
        "  dplyr::select(hours, lwage, educ, exper, expersq, age, kidslt6, nwifeinc)\n",
        "\n",
        "base"
      ],
      "metadata": {
        "id": "mUKLPuflOMuO"
      },
      "execution_count": null,
      "outputs": []
    },
    {
      "cell_type": "code",
      "source": [
        "# Estadísticas descriptivas\n",
        "skimr::skim(base)"
      ],
      "metadata": {
        "colab": {
          "base_uri": "https://localhost:8080/"
        },
        "id": "yjqmvyT-RV2a",
        "outputId": "1d888124-6b8a-4b88-faf9-16f46ae365c6"
      },
      "execution_count": null,
      "outputs": [
        {
          "output_type": "stream",
          "name": "stdout",
          "text": [
            "── Data Summary ────────────────────────\n",
            "                           Values\n",
            "Name                       base  \n",
            "Number of rows             428   \n",
            "Number of columns          8     \n",
            "_______________________          \n",
            "Column type frequency:           \n",
            "  numeric                  8     \n",
            "________________________         \n",
            "Group variables            None  \n",
            "\n",
            "── Variable type: numeric ──────────────────────────────────────────────────────\n",
            "  skim_variable n_missing complete_rate     mean      sd      p0     p25     p50\n",
            "\u001b[90m1\u001b[39m hours                 0             1 \u001b[4m1\u001b[24m303.    776.    12      610.    \u001b[4m1\u001b[24m366.  \n",
            "\u001b[90m2\u001b[39m lwage                 0             1    1.19    0.723 -\u001b[31m2\u001b[39m\u001b[31m.\u001b[39m\u001b[31m0\u001b[39m\u001b[31m5\u001b[39m     0.817    1.25\n",
            "\u001b[90m3\u001b[39m educ                  0             1   12.7     2.29   5       12       12   \n",
            "\u001b[90m4\u001b[39m exper                 0             1   13.0     8.06   0        7       12   \n",
            "\u001b[90m5\u001b[39m expersq               0             1  235.    270.     0       49      144   \n",
            "\u001b[90m6\u001b[39m age                   0             1   42.0     7.72  30       35       42   \n",
            "\u001b[90m7\u001b[39m kidslt6               0             1    0.140   0.392  0        0        0   \n",
            "\u001b[90m8\u001b[39m nwifeinc              0             1   18.9    10.6   -\u001b[31m0\u001b[39m\u001b[31m.\u001b[39m\u001b[31m0\u001b[39m\u001b[31m29\u001b[4m1\u001b[24m\u001b[39m  12.4     17.1 \n",
            "      p75    p100 hist \n",
            "\u001b[90m1\u001b[39m \u001b[4m1\u001b[24m910.   \u001b[4m4\u001b[24m950    ▆▇▂▁▁\n",
            "\u001b[90m2\u001b[39m    1.60    3.22 ▁▁▆▇▁\n",
            "\u001b[90m3\u001b[39m   14      17    ▁▁▇▂▂\n",
            "\u001b[90m4\u001b[39m   18      38    ▆▇▃▂▁\n",
            "\u001b[90m5\u001b[39m  324    \u001b[4m1\u001b[24m444    ▇▂▁▁▁\n",
            "\u001b[90m6\u001b[39m   47.2    60    ▇▅▇▅▂\n",
            "\u001b[90m7\u001b[39m    0       2    ▇▁▁▁▁\n",
            "\u001b[90m8\u001b[39m   23.5    91    ▇▅▁▁▁\n"
          ]
        }
      ]
    },
    {
      "cell_type": "markdown",
      "source": [
        "### **Ecuaciones estructurales**\n",
        "\n",
        "\\begin{gather*}\n",
        "hours=\\beta_{0} + \\beta_{1}lwage + \\beta_{2}educ+ \\beta_{3}age + \\beta_{4}kidslt6 + \\beta_{5}nwifeinc + \\epsilon_{1}\n",
        "\\end{gather*}\n",
        "\n",
        "\\begin{gather*}\n",
        "lwage = \\alpha_{0} + \\alpha_{1}hours + \\alpha_{2}educ + \\alpha_{3}exper + \\alpha_{4}exper^{2} + \\epsilon_{2}\n",
        "\\end{gather*}\n",
        "\n",
        "\n",
        "*   $exper$ y $exper^{2}$ son instrumentos para `lwage` ($exper$ y $exper^{2}$ no están en la ecuación `hours`, pero sí están relacionados al `lwage`)\n",
        "\n",
        "*   Lo mismo para `age`, `kidslt6` y `nwifeinc` que son buenos instrumentos para `hours`.\n",
        "\n",
        "\n",
        "\n"
      ],
      "metadata": {
        "id": "FAtApHtTR1Il"
      }
    },
    {
      "cell_type": "markdown",
      "source": [
        "### **Estimación para la Oferta Laboral**\n",
        "\n",
        "**MC2E, primera etapa**: forma reducida, regresión de variables endógenas en todas las variables exógenas y obtención de valores predichos."
      ],
      "metadata": {
        "id": "nH-Ht7nfU3KA"
      }
    },
    {
      "cell_type": "markdown",
      "source": [
        "**Primera etapa para la ecuación 1**: variable endógena `lwage` sobre instrumentos $exper$ y $exper^2$ y variables exógenas:\n",
        "\\begin{gather*}\n",
        "lwage = \\gamma_{0} + \\gamma_{1}exper + \\gamma_{2}exper^{2} + \\gamma_{3}educ + \\gamma_{4}age + \\gamma_{5}kidslt6 + \\gamma_{6}nwifeinc + \\mu_{1}\n",
        "\\end{gather*}"
      ],
      "metadata": {
        "id": "pmilmeYTZtFE"
      }
    },
    {
      "cell_type": "code",
      "source": [
        "# MC2E Primera etapa\n",
        "oferta_first <- lm(lwage ~ exper + expersq + educ + age + kidslt6 + nwifeinc, base)\n",
        "summary(oferta_first)"
      ],
      "metadata": {
        "colab": {
          "base_uri": "https://localhost:8080/",
          "height": 434
        },
        "id": "oN32wjlUVA5N",
        "outputId": "e6759403-b8df-423d-81a4-c0eee0487592"
      },
      "execution_count": null,
      "outputs": [
        {
          "output_type": "display_data",
          "data": {
            "text/plain": [
              "\n",
              "Call:\n",
              "lm(formula = lwage ~ exper + expersq + educ + age + kidslt6 + \n",
              "    nwifeinc, data = base)\n",
              "\n",
              "Residuals:\n",
              "     Min       1Q   Median       3Q      Max \n",
              "-3.09020 -0.30506  0.05005  0.37763  2.35628 \n",
              "\n",
              "Coefficients:\n",
              "              Estimate Std. Error t value Pr(>|t|)    \n",
              "(Intercept) -0.4471607  0.2852028  -1.568  0.11766    \n",
              "exper        0.0418643  0.0132377   3.162  0.00168 ** \n",
              "expersq     -0.0007625  0.0004008  -1.903  0.05779 .  \n",
              "educ         0.1011113  0.0149618   6.758 4.68e-11 ***\n",
              "age         -0.0025561  0.0051920  -0.492  0.62275    \n",
              "kidslt6     -0.0532185  0.0884411  -0.602  0.54767    \n",
              "nwifeinc     0.0055600  0.0033104   1.680  0.09378 .  \n",
              "---\n",
              "Signif. codes:  0 ‘***’ 0.001 ‘**’ 0.01 ‘*’ 0.05 ‘.’ 0.1 ‘ ’ 1\n",
              "\n",
              "Residual standard error: 0.6662 on 421 degrees of freedom\n",
              "Multiple R-squared:  0.1633,\tAdjusted R-squared:  0.1514 \n",
              "F-statistic: 13.69 on 6 and 421 DF,  p-value: 3.158e-14\n"
            ]
          },
          "metadata": {}
        }
      ]
    },
    {
      "cell_type": "markdown",
      "source": [
        "**MC2E, segunda etapa**: estimar las ecuaciones usando los valores predichos de la primera etapa para variables endógenas\n",
        "\n",
        "\\begin{gather*}\n",
        "hours=\\beta_{0} + \\beta_{1}\\hat{lwage} + \\beta_{2}educ+ \\beta_{3}age + \\beta_{4}kidslt6 + \\beta_{5}nwifeinc + \\epsilon_{1}\n",
        "\\end{gather*}"
      ],
      "metadata": {
        "id": "wRrAeZ8OZygs"
      }
    },
    {
      "cell_type": "code",
      "source": [
        "# Regresión para hours usando estimación MC2E\n",
        "# lwage es instrumentalizada por variables de otra ecuación\n",
        "oferta_second <- ivreg(hours ~ lwage + educ + age + kidslt6 + nwifeinc |\n",
        "                  . - lwage + exper + expersq, data = base)\n",
        "\n",
        "summary(oferta_second, diagnostics = TRUE)"
      ],
      "metadata": {
        "colab": {
          "base_uri": "https://localhost:8080/",
          "height": 520
        },
        "id": "dvIEBId9U_T8",
        "outputId": "f1053f5f-2fdc-4c1f-ac8f-d82d4007557c"
      },
      "execution_count": null,
      "outputs": [
        {
          "output_type": "display_data",
          "data": {
            "text/plain": [
              "\n",
              "Call:\n",
              "ivreg(formula = hours ~ lwage + educ + age + kidslt6 + nwifeinc | \n",
              "    . - lwage + exper + expersq, data = base)\n",
              "\n",
              "Residuals:\n",
              "     Min       1Q   Median       3Q      Max \n",
              "-4570.13  -654.08   -36.94   569.86  8372.91 \n",
              "\n",
              "Coefficients:\n",
              "            Estimate Std. Error t value Pr(>|t|)    \n",
              "(Intercept) 2225.662    574.564   3.874 0.000124 ***\n",
              "lwage       1639.556    470.576   3.484 0.000545 ***\n",
              "educ        -183.751     59.100  -3.109 0.002003 ** \n",
              "age           -7.806      9.378  -0.832 0.405664    \n",
              "kidslt6     -198.154    182.929  -1.083 0.279325    \n",
              "nwifeinc     -10.170      6.615  -1.537 0.124942    \n",
              "\n",
              "Diagnostic tests:\n",
              "                 df1 df2 statistic  p-value    \n",
              "Weak instruments   2 421     9.329 0.000109 ***\n",
              "Wu-Hausman         1 421    43.665 1.18e-10 ***\n",
              "Sargan             1  NA     0.862 0.353123    \n",
              "---\n",
              "Signif. codes:  0 ‘***’ 0.001 ‘**’ 0.01 ‘*’ 0.05 ‘.’ 0.1 ‘ ’ 1\n",
              "\n",
              "Residual standard error: 1354 on 422 degrees of freedom\n",
              "Multiple R-Squared: -2.008,\tAdjusted R-squared: -2.043 \n",
              "Wald test: 3.441 on 5 and 422 DF,  p-value: 0.004648 \n"
            ]
          },
          "metadata": {}
        }
      ]
    },
    {
      "cell_type": "code",
      "source": [
        "# Regresión para hours usando estimación MCO\n",
        "oferta_mco <- lm(hours ~ lwage + educ + age + kidslt6 + nwifeinc, data=base)\n",
        "summary(oferta_mco)"
      ],
      "metadata": {
        "colab": {
          "base_uri": "https://localhost:8080/",
          "height": 416
        },
        "id": "c7JNQH2BON9b",
        "outputId": "b76dc7d0-71ab-469f-9383-d9f0d09fa060"
      },
      "execution_count": null,
      "outputs": [
        {
          "output_type": "display_data",
          "data": {
            "text/plain": [
              "\n",
              "Call:\n",
              "lm(formula = hours ~ lwage + educ + age + kidslt6 + nwifeinc, \n",
              "    data = base)\n",
              "\n",
              "Residuals:\n",
              "    Min      1Q  Median      3Q     Max \n",
              "-1364.8  -675.4    48.2   559.6  3588.2 \n",
              "\n",
              "Coefficients:\n",
              "             Estimate Std. Error t value Pr(>|t|)    \n",
              "(Intercept) 1523.7748   305.5755   4.987 8.99e-07 ***\n",
              "lwage         -2.0468    54.8801  -0.037  0.97027    \n",
              "educ          -6.6219    18.1163  -0.366  0.71491    \n",
              "age            0.5623     5.1400   0.109  0.91295    \n",
              "kidslt6     -328.8584   101.4573  -3.241  0.00128 ** \n",
              "nwifeinc      -5.9185     3.6833  -1.607  0.10884    \n",
              "---\n",
              "Signif. codes:  0 ‘***’ 0.001 ‘**’ 0.01 ‘*’ 0.05 ‘.’ 0.1 ‘ ’ 1\n",
              "\n",
              "Residual standard error: 766.6 on 422 degrees of freedom\n",
              "Multiple R-squared:  0.03611,\tAdjusted R-squared:  0.02469 \n",
              "F-statistic: 3.162 on 5 and 422 DF,  p-value: 0.008173\n"
            ]
          },
          "metadata": {}
        }
      ]
    },
    {
      "cell_type": "code",
      "source": [
        "# Ver los resultados para la oferta\n",
        "table_oferta <- mtable(\"MCO\" = oferta_mco,\n",
        "                  \"MC2E (Primera Etapa)\" = oferta_first,\n",
        "                  \"MC2E (Segunda Etapa)\" = oferta_second,\n",
        "            summary.stats = c(\"N\", \"R-squared\"),\n",
        "            coef.style = \"default\", \n",
        "            digits=3)\n",
        "table_oferta"
      ],
      "metadata": {
        "colab": {
          "base_uri": "https://localhost:8080/",
          "height": 625
        },
        "id": "nkHmCVvWYTS9",
        "outputId": "94841d77-ee1b-453c-e67b-6cff47e86ab3"
      },
      "execution_count": null,
      "outputs": [
        {
          "output_type": "display_data",
          "data": {
            "text/plain": [
              "\n",
              "Calls:\n",
              "MCO hours: lm(formula = hours ~ lwage + educ + age + kidslt6 + nwifeinc, \n",
              "    data = base)\n",
              "MC2E (Primera Etapa) lwage: lm(formula = lwage ~ exper + expersq + educ + age + kidslt6 + \n",
              "    nwifeinc, data = base)\n",
              "MC2E (Segunda Etapa) hours: ivreg(formula = hours ~ lwage + educ + age + kidslt6 + nwifeinc | \n",
              "    . - lwage + exper + expersq, data = base)\n",
              "\n",
              "====================================================================================\n",
              "                MCO hours   MC2E (Primera Etapa) lwage  MC2E (Segunda Etapa) hours  \n",
              "               -----------          ----------                 -----------          \n",
              "                  hours               lwage                       hours             \n",
              "------------------------------------------------------------------------------------\n",
              "  (Intercept)  1523.775***           -0.447                    2225.662***          \n",
              "               (305.575)             (0.285)                   (574.564)            \n",
              "  lwage          -2.047                                        1639.556***          \n",
              "                (54.880)                                       (470.576)            \n",
              "  educ           -6.622               0.101***                 -183.751**           \n",
              "                (18.116)             (0.015)                    (59.100)            \n",
              "  age             0.562              -0.003                      -7.806             \n",
              "                 (5.140)             (0.005)                     (9.378)            \n",
              "  kidslt6      -328.858**            -0.053                    -198.154             \n",
              "               (101.457)             (0.088)                   (182.929)            \n",
              "  nwifeinc       -5.918               0.006                     -10.170             \n",
              "                 (3.683)             (0.003)                     (6.615)            \n",
              "  exper                               0.042**                                       \n",
              "                                     (0.013)                                        \n",
              "  expersq                            -0.001                                         \n",
              "                                     (0.000)                                        \n",
              "------------------------------------------------------------------------------------\n",
              "  N             428                 428                         428                 \n",
              "  R-squared       0.036               0.163                      -2.008             \n",
              "====================================================================================\n",
              "  Significance: *** = p < 0.001; ** = p < 0.01; * = p < 0.05  "
            ]
          },
          "metadata": {}
        }
      ]
    },
    {
      "cell_type": "markdown",
      "source": [
        "\n",
        "*  En el modelo MCO, el efecto de salario sobre horas trabajadas no es significativo.\n",
        "*  En el modelo MC2E, hay un efecto significativo del salario sobre las horas trabajadas. El coeficiente de `lwage` en la ecuación de horas es 1640. Por cada 1% de aumento en el salario, las horas trabajadas aumentan en 16.40 horas.\n",
        "*  La magnitud y la significancia de los coeficientes cambian usando MCO y MC2E.\n",
        "*  Los coeficientes de los instrumentos $exper$ y $exper^{2}$ son individualmente significativos. Un test F muestra que estos coeficientes son conjuntamente significativos.\n",
        "\n"
      ],
      "metadata": {
        "id": "loChWSISYnG_"
      }
    },
    {
      "cell_type": "markdown",
      "source": [
        "### **Estimación para la Demanda Laboral**\n",
        "\n",
        "**MC2E, primera etapa**: forma reducida, regresión de variables endógenas en todas las variables exógenas y obtención de valores predichos."
      ],
      "metadata": {
        "id": "p7ppHz53bAby"
      }
    },
    {
      "cell_type": "markdown",
      "source": [
        "**Primera etapa para la ecuación 2**: variable endógena `hours` sobre instrumentos `age`, `kidslt6`, `nwifeinc` y variables exógenas:\n",
        "\\begin{gather*}\n",
        "hours = \\delta_{0} + \\delta_{1}age + \\delta_{2}kidslt6 + \\delta_{3}nwifeinc + \\delta_{4}educ + \\delta_{5}exper + \\delta_{6}exper^{2} + \\mu_{2}\n",
        "\\end{gather*}"
      ],
      "metadata": {
        "id": "25gMXeDLbKEz"
      }
    },
    {
      "cell_type": "code",
      "source": [
        "# MC2E Primera etapa\n",
        "demanda_first <- lm(hours ~ age + kidslt6 + nwifeinc + educ + exper + expersq, base)\n",
        "summary(demanda_first)"
      ],
      "metadata": {
        "colab": {
          "base_uri": "https://localhost:8080/",
          "height": 434
        },
        "id": "EgcSxEvcbRnv",
        "outputId": "558e3fb6-4015-4dd2-b423-841392937d4c"
      },
      "execution_count": null,
      "outputs": [
        {
          "output_type": "display_data",
          "data": {
            "text/plain": [
              "\n",
              "Call:\n",
              "lm(formula = hours ~ age + kidslt6 + nwifeinc + educ + exper + \n",
              "    expersq, data = base)\n",
              "\n",
              "Residuals:\n",
              "    Min      1Q  Median      3Q     Max \n",
              "-1521.2  -556.8    63.9   448.7  3310.6 \n",
              "\n",
              "Coefficients:\n",
              "             Estimate Std. Error t value Pr(>|t|)    \n",
              "(Intercept) 1691.0312   312.4039   5.413 1.04e-07 ***\n",
              "age          -15.7096     5.6871  -2.762 0.005991 ** \n",
              "kidslt6     -294.8382    96.8761  -3.043 0.002485 ** \n",
              "nwifeinc      -0.1066     3.6261  -0.029 0.976570    \n",
              "educ         -17.7573    16.3887  -1.084 0.279205    \n",
              "exper         51.7395    14.5003   3.568 0.000401 ***\n",
              "expersq       -0.5758     0.4390  -1.312 0.190374    \n",
              "---\n",
              "Signif. codes:  0 ‘***’ 0.001 ‘**’ 0.01 ‘*’ 0.05 ‘.’ 0.1 ‘ ’ 1\n",
              "\n",
              "Residual standard error: 729.8 on 421 degrees of freedom\n",
              "Multiple R-squared:  0.1287,\tAdjusted R-squared:  0.1163 \n",
              "F-statistic: 10.36 on 6 and 421 DF,  p-value: 1.014e-10\n"
            ]
          },
          "metadata": {}
        }
      ]
    },
    {
      "cell_type": "markdown",
      "source": [
        "**MC2E, segunda etapa**: estimar las ecuaciones usando los valores predichos de la primera etapa para variables endógenas\n",
        "\\begin{gather*}\n",
        "lwage = \\alpha_{0} + \\alpha_{1}\\hat{hours} + \\alpha_{2}educ + \\alpha_{3}exper + \\alpha_{4}exper^{2} + \\epsilon_{2}\n",
        "\\end{gather*}"
      ],
      "metadata": {
        "id": "6kT_vJ5abOmA"
      }
    },
    {
      "cell_type": "code",
      "source": [
        "# Regresion para lwage usando estimación MC2E\n",
        "# hours es instrumentalizada por variables de otra ecuación\n",
        "demanda_second <- ivreg(lwage ~ hours + educ + exper + expersq |\n",
        "                  ~ . - hours + age + kidslt6 + nwifeinc,\n",
        "                data = base)\n",
        "summary(demanda_second, diagnostics = TRUE)"
      ],
      "metadata": {
        "colab": {
          "base_uri": "https://localhost:8080/",
          "height": 503
        },
        "id": "sHl58K9LbrbQ",
        "outputId": "6bacb458-7ba6-4c70-d360-26242f0be28c"
      },
      "execution_count": null,
      "outputs": [
        {
          "output_type": "display_data",
          "data": {
            "text/plain": [
              "\n",
              "Call:\n",
              "ivreg(formula = lwage ~ hours + educ + exper + expersq | ~. - \n",
              "    hours + age + kidslt6 + nwifeinc, data = base)\n",
              "\n",
              "Residuals:\n",
              "     Min       1Q   Median       3Q      Max \n",
              "-3.49800 -0.29307  0.03208  0.36486  2.45912 \n",
              "\n",
              "Coefficients:\n",
              "              Estimate Std. Error t value Pr(>|t|)    \n",
              "(Intercept) -0.6557254  0.3377883  -1.941   0.0529 .  \n",
              "hours        0.0001259  0.0002546   0.494   0.6212    \n",
              "educ         0.1103300  0.0155244   7.107 5.08e-12 ***\n",
              "exper        0.0345824  0.0194916   1.774   0.0767 .  \n",
              "expersq     -0.0007058  0.0004541  -1.554   0.1209    \n",
              "\n",
              "Diagnostic tests:\n",
              "                 df1 df2 statistic p-value   \n",
              "Weak instruments   3 421     4.457 0.00426 **\n",
              "Wu-Hausman         1 422     0.551 0.45834   \n",
              "Sargan             2  NA     2.925 0.23164   \n",
              "---\n",
              "Signif. codes:  0 ‘***’ 0.001 ‘**’ 0.01 ‘*’ 0.05 ‘.’ 0.1 ‘ ’ 1\n",
              "\n",
              "Residual standard error: 0.6794 on 423 degrees of freedom\n",
              "Multiple R-Squared: 0.1257,\tAdjusted R-squared: 0.1174 \n",
              "Wald test: 19.03 on 4 and 423 DF,  p-value: 2.108e-14 \n"
            ]
          },
          "metadata": {}
        }
      ]
    },
    {
      "cell_type": "code",
      "source": [
        "# Regresion para lwage usando estimación MCO\n",
        "demanda_mco <- lm(lwage ~ hours + educ + exper + expersq, base)\n",
        "summary(demanda_mco)"
      ],
      "metadata": {
        "colab": {
          "base_uri": "https://localhost:8080/",
          "height": 382
        },
        "id": "idV8YMNgYmud",
        "outputId": "a7b7355d-c0e8-4079-a85e-9443ad61947c"
      },
      "execution_count": null,
      "outputs": [
        {
          "output_type": "display_data",
          "data": {
            "text/plain": [
              "\n",
              "Call:\n",
              "lm(formula = lwage ~ hours + educ + exper + expersq, data = base)\n",
              "\n",
              "Residuals:\n",
              "     Min       1Q   Median       3Q      Max \n",
              "-3.08669 -0.31040  0.06009  0.38325  2.33164 \n",
              "\n",
              "Coefficients:\n",
              "              Estimate Std. Error t value Pr(>|t|)    \n",
              "(Intercept) -4.620e-01  2.038e-01  -2.266 0.023933 *  \n",
              "hours       -5.655e-05  4.378e-05  -1.292 0.197206    \n",
              "educ         1.062e-01  1.417e-02   7.496  3.9e-13 ***\n",
              "exper        4.470e-02  1.339e-02   3.339 0.000914 ***\n",
              "expersq     -8.585e-04  3.946e-04  -2.176 0.030144 *  \n",
              "---\n",
              "Signif. codes:  0 ‘***’ 0.001 ‘**’ 0.01 ‘*’ 0.05 ‘.’ 0.1 ‘ ’ 1\n",
              "\n",
              "Residual standard error: 0.6659 on 423 degrees of freedom\n",
              "Multiple R-squared:  0.1601,\tAdjusted R-squared:  0.1522 \n",
              "F-statistic: 20.16 on 4 and 423 DF,  p-value: 3.258e-15\n"
            ]
          },
          "metadata": {}
        }
      ]
    },
    {
      "cell_type": "code",
      "source": [
        "# Ver los resultados para la demanda\n",
        "table_demanda <- mtable(\"MCO\" = demanda_mco,\n",
        "                  \"MC2E (Primera Etapa)\" = demanda_first,\n",
        "                  \"MC2E (Segunda Etapa)\" = demanda_second,\n",
        "            summary.stats = c(\"N\", \"R-squared\"),\n",
        "            coef.style = \"default\", \n",
        "            digits=4)\n",
        "table_demanda"
      ],
      "metadata": {
        "colab": {
          "base_uri": "https://localhost:8080/",
          "height": 607
        },
        "id": "Afl1fQoqcAMs",
        "outputId": "ccc3d12e-be4f-430a-9d72-c05339c9ffa1"
      },
      "execution_count": null,
      "outputs": [
        {
          "output_type": "display_data",
          "data": {
            "text/plain": [
              "\n",
              "Calls:\n",
              "MCO lwage: lm(formula = lwage ~ hours + educ + exper + expersq, data = base)\n",
              "MC2E (Primera Etapa) hours: lm(formula = hours ~ age + kidslt6 + nwifeinc + educ + exper + \n",
              "    expersq, data = base)\n",
              "MC2E (Segunda Etapa) lwage: ivreg(formula = lwage ~ hours + educ + exper + expersq | ~. - \n",
              "    hours + age + kidslt6 + nwifeinc, data = base)\n",
              "\n",
              "====================================================================================\n",
              "                MCO lwage   MC2E (Primera Etapa) hours  MC2E (Segunda Etapa) lwage  \n",
              "               -----------         ------------                -----------          \n",
              "                  lwage               hours                       lwage             \n",
              "------------------------------------------------------------------------------------\n",
              "  (Intercept)   -0.4620*           1691.0312***                 -0.6557             \n",
              "                (0.2038)           (312.4039)                   (0.3378)            \n",
              "  hours         -0.0001                                          0.0001             \n",
              "                (0.0000)                                        (0.0003)            \n",
              "  educ           0.1062***          -17.7573                     0.1103***          \n",
              "                (0.0142)            (16.3887)                   (0.0155)            \n",
              "  exper          0.0447***           51.7395***                  0.0346             \n",
              "                (0.0134)            (14.5003)                   (0.0195)            \n",
              "  expersq       -0.0009*             -0.5758                    -0.0007             \n",
              "                (0.0004)             (0.4390)                   (0.0005)            \n",
              "  age                               -15.7096**                                      \n",
              "                                     (5.6871)                                       \n",
              "  kidslt6                          -294.8382**                                      \n",
              "                                    (96.8761)                                       \n",
              "  nwifeinc                           -0.1066                                        \n",
              "                                     (3.6261)                                       \n",
              "------------------------------------------------------------------------------------\n",
              "  N            428                  428                        428                  \n",
              "  R-squared      0.1601               0.1287                     0.1257             \n",
              "====================================================================================\n",
              "  Significance: *** = p < 0.001; ** = p < 0.01; * = p < 0.05  "
            ]
          },
          "metadata": {}
        }
      ]
    },
    {
      "cell_type": "markdown",
      "source": [
        "*  En el modelo MCO, el efecto de las horas sobre el salario no es significativo.\n",
        "*  En el modelo MC2E, el efecto de horas sobre el salario tampoco no es significativo.\n",
        "*  Los resultados MCO son muy similares a los resultados MC2E para ésta ecuación.\n",
        "*  Dos de los tres coeficientes `age`, `kidslt6` y `nwifeinc` son individualmente significativos. Un test F muestra que estos coeficientes son conjuntamente significativos."
      ],
      "metadata": {
        "id": "n8h7c-omcQb3"
      }
    },
    {
      "cell_type": "markdown",
      "source": [
        "### **Evaluando condición de rango**"
      ],
      "metadata": {
        "id": "jp092s3qcpXL"
      }
    },
    {
      "cell_type": "markdown",
      "source": [
        "Evaluar la condición de rango implica estimar la ecuación de forma reducida y probar la significancia de las variables instrumentales\n"
      ],
      "metadata": {
        "id": "nOvqRyfocvrV"
      }
    },
    {
      "cell_type": "markdown",
      "source": [
        "**Para la forma reducida de la oferta:**\n",
        "\n",
        "Estimando la ecuación de la forma reducida para `lwage`:\n",
        "\n",
        "\\begin{gather*}\n",
        "lwage = \\gamma_{0} + \\gamma_{1}exper + \\gamma_{2}exper^{2} + \\gamma_{3}educ + \\gamma_{4}age + \\gamma_{5}kidslt6 + \\gamma_{6}nwifeinc + \\mu_{1}\n",
        "\\end{gather*}\n",
        "\n",
        "Probar si coeficientes $\\gamma_{1}$ y $\\gamma_2$ de $exper$ y $exper^2$ son conjuntamente significativos diferente de cero:\n",
        "\n",
        "\\begin{gather*}\n",
        "H_0: \\gamma_1=0 \\quad y \\quad \\gamma_2=0 \\quad \\text{(ecuación para hours no es identificada)}\n",
        "\\end{gather*}\n",
        "\\begin{gather*}\n",
        "H_0: \\gamma_1\\neq0 \\quad y \\quad \\gamma_2\\neq0 \\quad \\text{(ecuación para hours es identificada)}\n",
        "\\end{gather*}"
      ],
      "metadata": {
        "id": "mZXOsAocdKbR"
      }
    },
    {
      "cell_type": "code",
      "source": [
        "# Ecuación de la forma reducida para lwage, ecuación de identificación para hours\n",
        "model1 <- lm(lwage ~ educ + age + kidslt6 + nwifeinc + exper + expersq, base)\n",
        "summary(model1)\n",
        "linearHypothesis(model1, c(\"exper = 0\", \"expersq = 0\"))"
      ],
      "metadata": {
        "colab": {
          "base_uri": "https://localhost:8080/",
          "height": 577
        },
        "id": "yPj6jubMcusI",
        "outputId": "1f155562-a2d7-4be8-e147-57e13eded260"
      },
      "execution_count": null,
      "outputs": [
        {
          "output_type": "display_data",
          "data": {
            "text/plain": [
              "\n",
              "Call:\n",
              "lm(formula = lwage ~ educ + age + kidslt6 + nwifeinc + exper + \n",
              "    expersq, data = base)\n",
              "\n",
              "Residuals:\n",
              "     Min       1Q   Median       3Q      Max \n",
              "-3.09020 -0.30506  0.05005  0.37763  2.35628 \n",
              "\n",
              "Coefficients:\n",
              "              Estimate Std. Error t value Pr(>|t|)    \n",
              "(Intercept) -0.4471607  0.2852028  -1.568  0.11766    \n",
              "educ         0.1011113  0.0149618   6.758 4.68e-11 ***\n",
              "age         -0.0025561  0.0051920  -0.492  0.62275    \n",
              "kidslt6     -0.0532185  0.0884411  -0.602  0.54767    \n",
              "nwifeinc     0.0055600  0.0033104   1.680  0.09378 .  \n",
              "exper        0.0418643  0.0132377   3.162  0.00168 ** \n",
              "expersq     -0.0007625  0.0004008  -1.903  0.05779 .  \n",
              "---\n",
              "Signif. codes:  0 ‘***’ 0.001 ‘**’ 0.01 ‘*’ 0.05 ‘.’ 0.1 ‘ ’ 1\n",
              "\n",
              "Residual standard error: 0.6662 on 421 degrees of freedom\n",
              "Multiple R-squared:  0.1633,\tAdjusted R-squared:  0.1514 \n",
              "F-statistic: 13.69 on 6 and 421 DF,  p-value: 3.158e-14\n"
            ]
          },
          "metadata": {}
        },
        {
          "output_type": "display_data",
          "data": {
            "text/html": [
              "<table class=\"dataframe\">\n",
              "<caption>A anova: 2 × 6</caption>\n",
              "<thead>\n",
              "\t<tr><th></th><th scope=col>Res.Df</th><th scope=col>RSS</th><th scope=col>Df</th><th scope=col>Sum of Sq</th><th scope=col>F</th><th scope=col>Pr(&gt;F)</th></tr>\n",
              "\t<tr><th></th><th scope=col>&lt;dbl&gt;</th><th scope=col>&lt;dbl&gt;</th><th scope=col>&lt;dbl&gt;</th><th scope=col>&lt;dbl&gt;</th><th scope=col>&lt;dbl&gt;</th><th scope=col>&lt;dbl&gt;</th></tr>\n",
              "</thead>\n",
              "<tbody>\n",
              "\t<tr><th scope=row>1</th><td>423</td><td>195.1392</td><td>NA</td><td>      NA</td><td>      NA</td><td>          NA</td></tr>\n",
              "\t<tr><th scope=row>2</th><td>421</td><td>186.8577</td><td> 2</td><td>8.281511</td><td>9.329333</td><td>0.0001085274</td></tr>\n",
              "</tbody>\n",
              "</table>\n"
            ],
            "text/markdown": "\nA anova: 2 × 6\n\n| <!--/--> | Res.Df &lt;dbl&gt; | RSS &lt;dbl&gt; | Df &lt;dbl&gt; | Sum of Sq &lt;dbl&gt; | F &lt;dbl&gt; | Pr(&gt;F) &lt;dbl&gt; |\n|---|---|---|---|---|---|---|\n| 1 | 423 | 195.1392 | NA |       NA |       NA |           NA |\n| 2 | 421 | 186.8577 |  2 | 8.281511 | 9.329333 | 0.0001085274 |\n\n",
            "text/latex": "A anova: 2 × 6\n\\begin{tabular}{r|llllll}\n  & Res.Df & RSS & Df & Sum of Sq & F & Pr(>F)\\\\\n  & <dbl> & <dbl> & <dbl> & <dbl> & <dbl> & <dbl>\\\\\n\\hline\n\t1 & 423 & 195.1392 & NA &       NA &       NA &           NA\\\\\n\t2 & 421 & 186.8577 &  2 & 8.281511 & 9.329333 & 0.0001085274\\\\\n\\end{tabular}\n",
            "text/plain": [
              "  Res.Df RSS      Df Sum of Sq F        Pr(>F)      \n",
              "1 423    195.1392 NA       NA        NA           NA\n",
              "2 421    186.8577  2 8.281511  9.329333 0.0001085274"
            ]
          },
          "metadata": {}
        }
      ]
    },
    {
      "cell_type": "markdown",
      "source": [
        "*   F estadístico=9.33 y p-value=0.0001. Los coeficientes son conjuntamente significativos.\n",
        "*   La condición de rango se cumple y la ecuación para `hours` es identificada."
      ],
      "metadata": {
        "id": "RWVHlAmreKIg"
      }
    },
    {
      "cell_type": "markdown",
      "source": [
        "**Para la forma reducida de la demanda:**"
      ],
      "metadata": {
        "id": "HF31n8BxdF_I"
      }
    },
    {
      "cell_type": "markdown",
      "source": [
        "Estimando la ecuación de la forma reducida para `hours`:\n",
        "\n",
        "\\begin{gather*}\n",
        "hours = \\delta_{0} + \\delta_{1}age + \\delta_{2}kidslt6 + \\delta_{3}nwifeinc + \\delta_{4}educ + \\delta_{5}exper + \\delta_{6}exper^{2} + \\mu_{2}\n",
        "\\end{gather*}\n",
        "\n",
        "`age`, `kidslt6` y `nwifeinc` son los instrumentos para `hours`:\n",
        "\n",
        "Probar si coeficientes $\\delta_{1}$, $\\delta_{2}$ y $\\delta_3$ de `age`, `kidslt6` y `nwifeinc` son conjuntamente significativos diferente de cero:\n",
        "\n",
        "\\begin{gather*}\n",
        "H_0: \\delta_1=0 \\quad \\delta_2=0 \\quad \\delta_3=0 \\quad \\text{(ecuación para lwage no es identificada)}\n",
        "\\end{gather*}\n",
        "\\begin{gather*}\n",
        "H_0: \\delta_1\\neq0 \\quad \\delta_2\\neq0 \\quad \\delta_3\\neq0 \\quad \\text{(ecuación para lwage es identificada)}\n",
        "\\end{gather*}"
      ],
      "metadata": {
        "id": "uVzk9RWoepta"
      }
    },
    {
      "cell_type": "code",
      "source": [
        "# Ecuación de la forma reducida para hours, ecuación de identificación para lwage\n",
        "model2 <- lm(hours ~ educ + age + kidslt6 + nwifeinc + exper + expersq, base)\n",
        "summary(model2)\n",
        "linearHypothesis(model2, c(\"age = 0\", \"kidslt6 = 0\", \"nwifeinc = 0\"))"
      ],
      "metadata": {
        "colab": {
          "base_uri": "https://localhost:8080/",
          "height": 577
        },
        "id": "r71queBWczkn",
        "outputId": "9e7749cc-a75d-4e21-d1cd-543861170b90"
      },
      "execution_count": null,
      "outputs": [
        {
          "output_type": "display_data",
          "data": {
            "text/plain": [
              "\n",
              "Call:\n",
              "lm(formula = hours ~ educ + age + kidslt6 + nwifeinc + exper + \n",
              "    expersq, data = base)\n",
              "\n",
              "Residuals:\n",
              "    Min      1Q  Median      3Q     Max \n",
              "-1521.2  -556.8    63.9   448.7  3310.6 \n",
              "\n",
              "Coefficients:\n",
              "             Estimate Std. Error t value Pr(>|t|)    \n",
              "(Intercept) 1691.0312   312.4039   5.413 1.04e-07 ***\n",
              "educ         -17.7573    16.3887  -1.084 0.279205    \n",
              "age          -15.7096     5.6871  -2.762 0.005991 ** \n",
              "kidslt6     -294.8382    96.8761  -3.043 0.002485 ** \n",
              "nwifeinc      -0.1066     3.6261  -0.029 0.976570    \n",
              "exper         51.7395    14.5003   3.568 0.000401 ***\n",
              "expersq       -0.5758     0.4390  -1.312 0.190374    \n",
              "---\n",
              "Signif. codes:  0 ‘***’ 0.001 ‘**’ 0.01 ‘*’ 0.05 ‘.’ 0.1 ‘ ’ 1\n",
              "\n",
              "Residual standard error: 729.8 on 421 degrees of freedom\n",
              "Multiple R-squared:  0.1287,\tAdjusted R-squared:  0.1163 \n",
              "F-statistic: 10.36 on 6 and 421 DF,  p-value: 1.014e-10\n"
            ]
          },
          "metadata": {}
        },
        {
          "output_type": "display_data",
          "data": {
            "text/html": [
              "<table class=\"dataframe\">\n",
              "<caption>A anova: 2 × 6</caption>\n",
              "<thead>\n",
              "\t<tr><th></th><th scope=col>Res.Df</th><th scope=col>RSS</th><th scope=col>Df</th><th scope=col>Sum of Sq</th><th scope=col>F</th><th scope=col>Pr(&gt;F)</th></tr>\n",
              "\t<tr><th></th><th scope=col>&lt;dbl&gt;</th><th scope=col>&lt;dbl&gt;</th><th scope=col>&lt;dbl&gt;</th><th scope=col>&lt;dbl&gt;</th><th scope=col>&lt;dbl&gt;</th><th scope=col>&lt;dbl&gt;</th></tr>\n",
              "</thead>\n",
              "<tbody>\n",
              "\t<tr><th scope=row>1</th><td>424</td><td>231321286</td><td>NA</td><td>     NA</td><td>      NA</td><td>         NA</td></tr>\n",
              "\t<tr><th scope=row>2</th><td>421</td><td>224200428</td><td> 3</td><td>7120858</td><td>4.457145</td><td>0.004264957</td></tr>\n",
              "</tbody>\n",
              "</table>\n"
            ],
            "text/markdown": "\nA anova: 2 × 6\n\n| <!--/--> | Res.Df &lt;dbl&gt; | RSS &lt;dbl&gt; | Df &lt;dbl&gt; | Sum of Sq &lt;dbl&gt; | F &lt;dbl&gt; | Pr(&gt;F) &lt;dbl&gt; |\n|---|---|---|---|---|---|---|\n| 1 | 424 | 231321286 | NA |      NA |       NA |          NA |\n| 2 | 421 | 224200428 |  3 | 7120858 | 4.457145 | 0.004264957 |\n\n",
            "text/latex": "A anova: 2 × 6\n\\begin{tabular}{r|llllll}\n  & Res.Df & RSS & Df & Sum of Sq & F & Pr(>F)\\\\\n  & <dbl> & <dbl> & <dbl> & <dbl> & <dbl> & <dbl>\\\\\n\\hline\n\t1 & 424 & 231321286 & NA &      NA &       NA &          NA\\\\\n\t2 & 421 & 224200428 &  3 & 7120858 & 4.457145 & 0.004264957\\\\\n\\end{tabular}\n",
            "text/plain": [
              "  Res.Df RSS       Df Sum of Sq F        Pr(>F)     \n",
              "1 424    231321286 NA      NA         NA          NA\n",
              "2 421    224200428  3 7120858   4.457145 0.004264957"
            ]
          },
          "metadata": {}
        }
      ]
    },
    {
      "cell_type": "markdown",
      "source": [
        "*   F estadístico=4.46 y p-value=0.0043. Los coeficientes son conjuntamente significativos.\n",
        "*   La condición de rango se cumple y la ecuación para `lwage` es identificada."
      ],
      "metadata": {
        "id": "xqaCpxE5fgKa"
      }
    }
  ]
}