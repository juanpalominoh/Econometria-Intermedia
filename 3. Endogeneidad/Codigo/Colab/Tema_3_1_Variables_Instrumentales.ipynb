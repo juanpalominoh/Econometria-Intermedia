{
  "nbformat": 4,
  "nbformat_minor": 0,
  "metadata": {
    "colab": {
      "provenance": [],
      "authorship_tag": "ABX9TyNtssHrZyJiA0fScIUdqqcJ",
      "include_colab_link": true
    },
    "kernelspec": {
      "name": "ir",
      "display_name": "R"
    },
    "language_info": {
      "name": "R"
    }
  },
  "cells": [
    {
      "cell_type": "markdown",
      "metadata": {
        "id": "view-in-github",
        "colab_type": "text"
      },
      "source": [
        "<a href=\"https://colab.research.google.com/github/juanpalominoh/Econometria-Intermedia/blob/main/Tema_3_1_Variables_Instrumentales.ipynb\" target=\"_parent\"><img src=\"https://colab.research.google.com/assets/colab-badge.svg\" alt=\"Open In Colab\"/></a>"
      ]
    },
    {
      "cell_type": "markdown",
      "source": [
        "# Variables Instrumentales\n",
        "En esta primera aproximación vamos a revisar algunos resultados de: Card, David. 1995. “Using Geographic Variation in College Proximity to Estimate the Return to Schooling.” In Aspects of Labour Market Behaviour: Essays in Honour of John Vanderkamp, edited by Louis N. Christofides, E. Kenneth Grant, and Robert Swidinsky. Toronto: University of Toronto Press. https://www.nber.org/system/files/working_papers/w4483/w4483.pdf\n"
      ],
      "metadata": {
        "id": "PzupDGmQUeSj"
      }
    },
    {
      "cell_type": "code",
      "execution_count": null,
      "metadata": {
        "colab": {
          "base_uri": "https://localhost:8080/"
        },
        "id": "NPGezGfFRK7t",
        "outputId": "a1f84a48-9f94-4fa5-c67e-d7d559db293a"
      },
      "outputs": [
        {
          "output_type": "stream",
          "name": "stderr",
          "text": [
            "Installing package into ‘/usr/local/lib/R/site-library’\n",
            "(as ‘lib’ is unspecified)\n",
            "\n"
          ]
        }
      ],
      "source": [
        "# Instalamos paquete para leer Stata\n",
        "install.packages(\"foreign\")\n",
        "library(\"foreign\")"
      ]
    },
    {
      "cell_type": "markdown",
      "source": [
        "Los datos provienen de la cohorte de hombres jóvenes de NLS de la Encuesta Nacional Longitudinal. \n",
        "\n",
        "Estos datos comenzaron en 1966 con 3,010 hombres de entre 24 y 34 años y continuaron su seguimiento hasta 1981."
      ],
      "metadata": {
        "id": "fEZePjMEZSm9"
      }
    },
    {
      "cell_type": "code",
      "source": [
        "card <- read.dta(\"/content/CARD.DTA\", convert.factors = FALSE)\n",
        "card"
      ],
      "metadata": {
        "colab": {
          "base_uri": "https://localhost:8080/",
          "height": 1000
        },
        "id": "Yezs2z6WTk6d",
        "outputId": "9e3e66ba-c34e-4439-81e3-d52cbeea0a0b"
      },
      "execution_count": null,
      "outputs": [
        {
          "output_type": "display_data",
          "data": {
            "text/html": [
              "<table class=\"dataframe\">\n",
              "<caption>A data.frame: 3010 × 34</caption>\n",
              "<thead>\n",
              "\t<tr><th></th><th scope=col>id</th><th scope=col>nearc2</th><th scope=col>nearc4</th><th scope=col>educ</th><th scope=col>age</th><th scope=col>fatheduc</th><th scope=col>motheduc</th><th scope=col>weight</th><th scope=col>momdad14</th><th scope=col>sinmom14</th><th scope=col>⋯</th><th scope=col>smsa66</th><th scope=col>wage</th><th scope=col>enroll</th><th scope=col>KWW</th><th scope=col>IQ</th><th scope=col>married</th><th scope=col>libcrd14</th><th scope=col>exper</th><th scope=col>lwage</th><th scope=col>expersq</th></tr>\n",
              "\t<tr><th></th><th scope=col>&lt;int&gt;</th><th scope=col>&lt;int&gt;</th><th scope=col>&lt;int&gt;</th><th scope=col>&lt;int&gt;</th><th scope=col>&lt;int&gt;</th><th scope=col>&lt;int&gt;</th><th scope=col>&lt;int&gt;</th><th scope=col>&lt;dbl&gt;</th><th scope=col>&lt;int&gt;</th><th scope=col>&lt;int&gt;</th><th scope=col>⋯</th><th scope=col>&lt;int&gt;</th><th scope=col>&lt;int&gt;</th><th scope=col>&lt;int&gt;</th><th scope=col>&lt;int&gt;</th><th scope=col>&lt;int&gt;</th><th scope=col>&lt;int&gt;</th><th scope=col>&lt;int&gt;</th><th scope=col>&lt;int&gt;</th><th scope=col>&lt;dbl&gt;</th><th scope=col>&lt;int&gt;</th></tr>\n",
              "</thead>\n",
              "<tbody>\n",
              "\t<tr><th scope=row>1</th><td> 2</td><td>0</td><td>0</td><td> 7</td><td>29</td><td>NA</td><td>NA</td><td>158413</td><td>1</td><td>0</td><td>⋯</td><td>1</td><td> 548</td><td>0</td><td>15</td><td> NA</td><td>1</td><td>0</td><td>16</td><td>6.306275</td><td>256</td></tr>\n",
              "\t<tr><th scope=row>2</th><td> 3</td><td>0</td><td>0</td><td>12</td><td>27</td><td> 8</td><td> 8</td><td>380166</td><td>1</td><td>0</td><td>⋯</td><td>1</td><td> 481</td><td>0</td><td>35</td><td> 93</td><td>1</td><td>1</td><td> 9</td><td>6.175867</td><td> 81</td></tr>\n",
              "\t<tr><th scope=row>3</th><td> 4</td><td>0</td><td>0</td><td>12</td><td>34</td><td>14</td><td>12</td><td>367470</td><td>1</td><td>0</td><td>⋯</td><td>1</td><td> 721</td><td>0</td><td>42</td><td>103</td><td>1</td><td>1</td><td>16</td><td>6.580639</td><td>256</td></tr>\n",
              "\t<tr><th scope=row>4</th><td> 5</td><td>1</td><td>1</td><td>11</td><td>27</td><td>11</td><td>12</td><td>380166</td><td>1</td><td>0</td><td>⋯</td><td>1</td><td> 250</td><td>0</td><td>25</td><td> 88</td><td>1</td><td>1</td><td>10</td><td>5.521461</td><td>100</td></tr>\n",
              "\t<tr><th scope=row>5</th><td> 6</td><td>1</td><td>1</td><td>12</td><td>34</td><td> 8</td><td> 7</td><td>367470</td><td>1</td><td>0</td><td>⋯</td><td>1</td><td> 729</td><td>0</td><td>34</td><td>108</td><td>1</td><td>0</td><td>16</td><td>6.591674</td><td>256</td></tr>\n",
              "\t<tr><th scope=row>6</th><td> 7</td><td>1</td><td>1</td><td>12</td><td>26</td><td> 9</td><td>12</td><td>380166</td><td>1</td><td>0</td><td>⋯</td><td>1</td><td> 500</td><td>0</td><td>38</td><td> 85</td><td>1</td><td>1</td><td> 8</td><td>6.214608</td><td> 64</td></tr>\n",
              "\t<tr><th scope=row>7</th><td> 8</td><td>1</td><td>1</td><td>18</td><td>33</td><td>14</td><td>14</td><td>367470</td><td>1</td><td>0</td><td>⋯</td><td>1</td><td> 565</td><td>0</td><td>41</td><td>119</td><td>1</td><td>1</td><td> 9</td><td>6.336826</td><td> 81</td></tr>\n",
              "\t<tr><th scope=row>8</th><td> 9</td><td>1</td><td>1</td><td>14</td><td>29</td><td>14</td><td>14</td><td>496635</td><td>1</td><td>0</td><td>⋯</td><td>1</td><td> 608</td><td>0</td><td>46</td><td>108</td><td>1</td><td>1</td><td> 9</td><td>6.410175</td><td> 81</td></tr>\n",
              "\t<tr><th scope=row>9</th><td>10</td><td>1</td><td>1</td><td>12</td><td>28</td><td>12</td><td>12</td><td>367772</td><td>1</td><td>0</td><td>⋯</td><td>1</td><td> 425</td><td>0</td><td>32</td><td> 96</td><td>4</td><td>0</td><td>10</td><td>6.052089</td><td>100</td></tr>\n",
              "\t<tr><th scope=row>10</th><td>11</td><td>1</td><td>1</td><td>12</td><td>29</td><td>12</td><td>12</td><td>480445</td><td>1</td><td>0</td><td>⋯</td><td>1</td><td> 515</td><td>0</td><td>34</td><td> 97</td><td>1</td><td>1</td><td>11</td><td>6.244167</td><td>121</td></tr>\n",
              "\t<tr><th scope=row>11</th><td>12</td><td>1</td><td>1</td><td> 9</td><td>28</td><td>11</td><td>12</td><td>380166</td><td>1</td><td>0</td><td>⋯</td><td>1</td><td> 225</td><td>0</td><td>29</td><td> 84</td><td>1</td><td>0</td><td>13</td><td>5.416101</td><td>169</td></tr>\n",
              "\t<tr><th scope=row>12</th><td>13</td><td>1</td><td>1</td><td>12</td><td>26</td><td>11</td><td> 6</td><td>380166</td><td>1</td><td>0</td><td>⋯</td><td>1</td><td> 400</td><td>0</td><td>34</td><td> 89</td><td>1</td><td>1</td><td> 8</td><td>5.991465</td><td> 64</td></tr>\n",
              "\t<tr><th scope=row>13</th><td>14</td><td>1</td><td>1</td><td>11</td><td>24</td><td>11</td><td> 6</td><td>369567</td><td>1</td><td>0</td><td>⋯</td><td>1</td><td> 417</td><td>0</td><td>22</td><td> 93</td><td>1</td><td>1</td><td> 7</td><td>6.033086</td><td> 49</td></tr>\n",
              "\t<tr><th scope=row>14</th><td>15</td><td>1</td><td>1</td><td>11</td><td>30</td><td>11</td><td> 6</td><td>496635</td><td>1</td><td>0</td><td>⋯</td><td>1</td><td> 217</td><td>0</td><td>27</td><td> 74</td><td>1</td><td>0</td><td>13</td><td>5.379897</td><td>169</td></tr>\n",
              "\t<tr><th scope=row>15</th><td>16</td><td>1</td><td>1</td><td>16</td><td>31</td><td>NA</td><td> 8</td><td>648053</td><td>0</td><td>1</td><td>⋯</td><td>1</td><td> 894</td><td>0</td><td>43</td><td>116</td><td>1</td><td>1</td><td> 9</td><td>6.795706</td><td> 81</td></tr>\n",
              "\t<tr><th scope=row>16</th><td>17</td><td>1</td><td>1</td><td>14</td><td>24</td><td>15</td><td>12</td><td>357519</td><td>1</td><td>0</td><td>⋯</td><td>1</td><td> 300</td><td>0</td><td>36</td><td> NA</td><td>6</td><td>1</td><td> 4</td><td>5.703783</td><td> 16</td></tr>\n",
              "\t<tr><th scope=row>17</th><td>19</td><td>1</td><td>1</td><td>12</td><td>34</td><td>12</td><td> 8</td><td>367470</td><td>1</td><td>0</td><td>⋯</td><td>1</td><td> 346</td><td>0</td><td>40</td><td> 93</td><td>1</td><td>1</td><td>16</td><td>5.846439</td><td>256</td></tr>\n",
              "\t<tr><th scope=row>18</th><td>20</td><td>1</td><td>1</td><td>14</td><td>29</td><td>NA</td><td>12</td><td>496635</td><td>0</td><td>1</td><td>⋯</td><td>1</td><td> 658</td><td>0</td><td>35</td><td>100</td><td>1</td><td>1</td><td> 9</td><td>6.489205</td><td> 81</td></tr>\n",
              "\t<tr><th scope=row>19</th><td>22</td><td>1</td><td>1</td><td>10</td><td>26</td><td> 8</td><td> 8</td><td>367772</td><td>1</td><td>0</td><td>⋯</td><td>1</td><td> 575</td><td>0</td><td>24</td><td> 91</td><td>6</td><td>0</td><td>10</td><td>6.354370</td><td>100</td></tr>\n",
              "\t<tr><th scope=row>20</th><td>25</td><td>1</td><td>1</td><td>12</td><td>32</td><td> 8</td><td> 8</td><td>355491</td><td>1</td><td>0</td><td>⋯</td><td>1</td><td> 649</td><td>0</td><td>35</td><td> 88</td><td>1</td><td>0</td><td>14</td><td>6.475433</td><td>196</td></tr>\n",
              "\t<tr><th scope=row>21</th><td>26</td><td>1</td><td>1</td><td>18</td><td>32</td><td>12</td><td>13</td><td>367470</td><td>1</td><td>0</td><td>⋯</td><td>1</td><td> 944</td><td>0</td><td>43</td><td> NA</td><td>1</td><td>1</td><td> 8</td><td>6.850126</td><td> 64</td></tr>\n",
              "\t<tr><th scope=row>22</th><td>29</td><td>1</td><td>1</td><td>18</td><td>34</td><td>NA</td><td> 8</td><td>408301</td><td>1</td><td>0</td><td>⋯</td><td>1</td><td> 614</td><td>0</td><td>50</td><td>114</td><td>1</td><td>1</td><td>10</td><td>6.419995</td><td>100</td></tr>\n",
              "\t<tr><th scope=row>23</th><td>30</td><td>1</td><td>1</td><td>15</td><td>32</td><td> 5</td><td>14</td><td>367470</td><td>1</td><td>0</td><td>⋯</td><td>1</td><td> 726</td><td>0</td><td>37</td><td>111</td><td>1</td><td>1</td><td>11</td><td>6.587550</td><td>121</td></tr>\n",
              "\t<tr><th scope=row>24</th><td>31</td><td>0</td><td>1</td><td>12</td><td>28</td><td>14</td><td>12</td><td>380166</td><td>1</td><td>0</td><td>⋯</td><td>1</td><td> 604</td><td>0</td><td>44</td><td> NA</td><td>1</td><td>1</td><td>10</td><td>6.403574</td><td>100</td></tr>\n",
              "\t<tr><th scope=row>25</th><td>32</td><td>0</td><td>1</td><td>12</td><td>32</td><td>11</td><td>12</td><td>367470</td><td>1</td><td>0</td><td>⋯</td><td>1</td><td> 693</td><td>0</td><td>44</td><td> 95</td><td>1</td><td>1</td><td>14</td><td>6.541030</td><td>196</td></tr>\n",
              "\t<tr><th scope=row>26</th><td>35</td><td>0</td><td>1</td><td>18</td><td>34</td><td>14</td><td>13</td><td>367470</td><td>1</td><td>0</td><td>⋯</td><td>1</td><td>1400</td><td>0</td><td>44</td><td>132</td><td>1</td><td>1</td><td>10</td><td>7.244227</td><td>100</td></tr>\n",
              "\t<tr><th scope=row>27</th><td>36</td><td>0</td><td>1</td><td>12</td><td>26</td><td> 7</td><td>12</td><td>367772</td><td>1</td><td>0</td><td>⋯</td><td>1</td><td> 300</td><td>0</td><td>27</td><td> NA</td><td>6</td><td>1</td><td> 8</td><td>5.703783</td><td> 64</td></tr>\n",
              "\t<tr><th scope=row>28</th><td>37</td><td>0</td><td>1</td><td>18</td><td>32</td><td>16</td><td>16</td><td>355491</td><td>1</td><td>0</td><td>⋯</td><td>1</td><td>1800</td><td>0</td><td>38</td><td>109</td><td>5</td><td>1</td><td> 8</td><td>7.495542</td><td> 64</td></tr>\n",
              "\t<tr><th scope=row>29</th><td>38</td><td>0</td><td>1</td><td>12</td><td>25</td><td>11</td><td>12</td><td>357519</td><td>1</td><td>0</td><td>⋯</td><td>1</td><td> 413</td><td>0</td><td>43</td><td>108</td><td>1</td><td>1</td><td> 7</td><td>6.023448</td><td> 49</td></tr>\n",
              "\t<tr><th scope=row>30</th><td>39</td><td>0</td><td>1</td><td>14</td><td>29</td><td>NA</td><td>16</td><td>496635</td><td>0</td><td>1</td><td>⋯</td><td>0</td><td> 632</td><td>0</td><td>45</td><td>102</td><td>1</td><td>1</td><td> 9</td><td>6.448889</td><td> 81</td></tr>\n",
              "\t<tr><th scope=row>⋮</th><td>⋮</td><td>⋮</td><td>⋮</td><td>⋮</td><td>⋮</td><td>⋮</td><td>⋮</td><td>⋮</td><td>⋮</td><td>⋮</td><td>⋱</td><td>⋮</td><td>⋮</td><td>⋮</td><td>⋮</td><td>⋮</td><td>⋮</td><td>⋮</td><td>⋮</td><td>⋮</td><td>⋮</td></tr>\n",
              "\t<tr><th scope=row>2981</th><td>5162</td><td>0</td><td>0</td><td>16</td><td>30</td><td> 5</td><td> 8</td><td>118905</td><td>0</td><td>0</td><td>⋯</td><td>0</td><td>625</td><td>0</td><td>35</td><td> 78</td><td>1</td><td>1</td><td> 8</td><td>6.437752</td><td> 64</td></tr>\n",
              "\t<tr><th scope=row>2982</th><td>5163</td><td>0</td><td>0</td><td>12</td><td>30</td><td>NA</td><td>NA</td><td>118905</td><td>0</td><td>0</td><td>⋯</td><td>0</td><td>254</td><td>0</td><td>27</td><td> 72</td><td>5</td><td>1</td><td>12</td><td>5.537334</td><td>144</td></tr>\n",
              "\t<tr><th scope=row>2983</th><td>5165</td><td>0</td><td>0</td><td> 9</td><td>27</td><td>NA</td><td>NA</td><td>107087</td><td>0</td><td>0</td><td>⋯</td><td>0</td><td>450</td><td>0</td><td>32</td><td> 75</td><td>1</td><td>1</td><td>12</td><td>6.109248</td><td>144</td></tr>\n",
              "\t<tr><th scope=row>2984</th><td>5166</td><td>0</td><td>0</td><td>12</td><td>24</td><td>NA</td><td>NA</td><td> 75607</td><td>0</td><td>0</td><td>⋯</td><td>0</td><td>375</td><td>0</td><td>27</td><td> NA</td><td>1</td><td>1</td><td> 6</td><td>5.926926</td><td> 36</td></tr>\n",
              "\t<tr><th scope=row>2985</th><td>5168</td><td>0</td><td>0</td><td>12</td><td>26</td><td> 0</td><td> 7</td><td> 77507</td><td>1</td><td>0</td><td>⋯</td><td>0</td><td>300</td><td>0</td><td>30</td><td> NA</td><td>1</td><td>1</td><td> 8</td><td>5.703783</td><td> 64</td></tr>\n",
              "\t<tr><th scope=row>2986</th><td>5171</td><td>0</td><td>0</td><td>12</td><td>26</td><td> 8</td><td>10</td><td> 77507</td><td>1</td><td>0</td><td>⋯</td><td>0</td><td>364</td><td>0</td><td>30</td><td> NA</td><td>5</td><td>1</td><td> 8</td><td>5.897154</td><td> 64</td></tr>\n",
              "\t<tr><th scope=row>2987</th><td>5173</td><td>0</td><td>0</td><td>18</td><td>27</td><td>NA</td><td>NA</td><td> 77507</td><td>0</td><td>0</td><td>⋯</td><td>0</td><td>750</td><td>0</td><td>39</td><td> NA</td><td>1</td><td>1</td><td> 3</td><td>6.620073</td><td>  9</td></tr>\n",
              "\t<tr><th scope=row>2988</th><td>5174</td><td>0</td><td>0</td><td>15</td><td>28</td><td> 3</td><td> 8</td><td> 77507</td><td>1</td><td>0</td><td>⋯</td><td>0</td><td>589</td><td>0</td><td>36</td><td> NA</td><td>1</td><td>1</td><td> 7</td><td>6.378426</td><td> 49</td></tr>\n",
              "\t<tr><th scope=row>2989</th><td>5176</td><td>0</td><td>0</td><td>10</td><td>31</td><td> 0</td><td> 2</td><td>117386</td><td>1</td><td>0</td><td>⋯</td><td>0</td><td>265</td><td>0</td><td>26</td><td> NA</td><td>1</td><td>1</td><td>15</td><td>5.579730</td><td>225</td></tr>\n",
              "\t<tr><th scope=row>2990</th><td>5177</td><td>0</td><td>0</td><td> 9</td><td>25</td><td> 0</td><td> 2</td><td> 75607</td><td>1</td><td>0</td><td>⋯</td><td>0</td><td>300</td><td>0</td><td>10</td><td> NA</td><td>5</td><td>1</td><td>10</td><td>5.703783</td><td>100</td></tr>\n",
              "\t<tr><th scope=row>2991</th><td>5179</td><td>0</td><td>0</td><td> 6</td><td>33</td><td>NA</td><td>NA</td><td>111044</td><td>1</td><td>0</td><td>⋯</td><td>0</td><td>390</td><td>0</td><td>21</td><td> NA</td><td>1</td><td>0</td><td>21</td><td>5.966147</td><td>441</td></tr>\n",
              "\t<tr><th scope=row>2992</th><td>5184</td><td>0</td><td>0</td><td>10</td><td>31</td><td>NA</td><td>12</td><td>119965</td><td>1</td><td>0</td><td>⋯</td><td>0</td><td>500</td><td>0</td><td>31</td><td> NA</td><td>1</td><td>1</td><td>15</td><td>6.214608</td><td>225</td></tr>\n",
              "\t<tr><th scope=row>2993</th><td>5185</td><td>0</td><td>0</td><td>12</td><td>29</td><td>NA</td><td>12</td><td>119965</td><td>1</td><td>0</td><td>⋯</td><td>0</td><td>450</td><td>0</td><td>38</td><td>101</td><td>1</td><td>1</td><td>11</td><td>6.109248</td><td>121</td></tr>\n",
              "\t<tr><th scope=row>2994</th><td>5186</td><td>0</td><td>0</td><td>12</td><td>27</td><td> 7</td><td> 7</td><td> 91831</td><td>1</td><td>0</td><td>⋯</td><td>0</td><td>263</td><td>0</td><td>33</td><td>100</td><td>1</td><td>1</td><td> 9</td><td>5.572154</td><td> 81</td></tr>\n",
              "\t<tr><th scope=row>2995</th><td>5187</td><td>0</td><td>0</td><td>14</td><td>27</td><td> 5</td><td>12</td><td> 91831</td><td>1</td><td>0</td><td>⋯</td><td>0</td><td>432</td><td>0</td><td>38</td><td>105</td><td>1</td><td>1</td><td> 7</td><td>6.068426</td><td> 49</td></tr>\n",
              "\t<tr><th scope=row>2996</th><td>5193</td><td>0</td><td>0</td><td>10</td><td>30</td><td>NA</td><td> 4</td><td>480216</td><td>1</td><td>0</td><td>⋯</td><td>0</td><td>192</td><td>0</td><td>29</td><td> NA</td><td>1</td><td>0</td><td>14</td><td>5.257495</td><td>196</td></tr>\n",
              "\t<tr><th scope=row>2997</th><td>5196</td><td>0</td><td>0</td><td>14</td><td>34</td><td> 8</td><td> 8</td><td>363128</td><td>1</td><td>0</td><td>⋯</td><td>0</td><td>829</td><td>0</td><td>35</td><td> NA</td><td>1</td><td>1</td><td>14</td><td>6.720220</td><td>196</td></tr>\n",
              "\t<tr><th scope=row>2998</th><td>5199</td><td>0</td><td>1</td><td>16</td><td>30</td><td>16</td><td>16</td><td>140524</td><td>1</td><td>0</td><td>⋯</td><td>0</td><td>513</td><td>0</td><td>30</td><td> 82</td><td>1</td><td>0</td><td> 8</td><td>6.240276</td><td> 64</td></tr>\n",
              "\t<tr><th scope=row>2999</th><td>5200</td><td>0</td><td>1</td><td>13</td><td>30</td><td> 4</td><td> 9</td><td>117386</td><td>1</td><td>0</td><td>⋯</td><td>0</td><td>529</td><td>0</td><td>25</td><td> NA</td><td>1</td><td>0</td><td>11</td><td>6.270988</td><td>121</td></tr>\n",
              "\t<tr><th scope=row>3000</th><td>5204</td><td>0</td><td>1</td><td>16</td><td>26</td><td>NA</td><td>11</td><td> 91599</td><td>0</td><td>1</td><td>⋯</td><td>0</td><td>385</td><td>0</td><td>28</td><td> 79</td><td>1</td><td>0</td><td> 4</td><td>5.953243</td><td> 16</td></tr>\n",
              "\t<tr><th scope=row>3001</th><td>5206</td><td>0</td><td>1</td><td>13</td><td>27</td><td> 6</td><td> 8</td><td> 91831</td><td>1</td><td>0</td><td>⋯</td><td>0</td><td>500</td><td>0</td><td>32</td><td>102</td><td>1</td><td>0</td><td> 8</td><td>6.214608</td><td> 64</td></tr>\n",
              "\t<tr><th scope=row>3002</th><td>5210</td><td>0</td><td>1</td><td>15</td><td>29</td><td>16</td><td>18</td><td>119965</td><td>1</td><td>0</td><td>⋯</td><td>0</td><td>712</td><td>0</td><td>43</td><td> NA</td><td>1</td><td>1</td><td> 8</td><td>6.568078</td><td> 64</td></tr>\n",
              "\t<tr><th scope=row>3003</th><td>5211</td><td>0</td><td>1</td><td>16</td><td>27</td><td>16</td><td>18</td><td> 91831</td><td>1</td><td>0</td><td>⋯</td><td>0</td><td>472</td><td>0</td><td>36</td><td> NA</td><td>1</td><td>1</td><td> 5</td><td>6.156979</td><td> 25</td></tr>\n",
              "\t<tr><th scope=row>3004</th><td>5212</td><td>0</td><td>1</td><td>12</td><td>24</td><td>NA</td><td> 7</td><td> 79093</td><td>0</td><td>1</td><td>⋯</td><td>0</td><td>470</td><td>0</td><td>22</td><td> 77</td><td>1</td><td>0</td><td> 6</td><td>6.152733</td><td> 36</td></tr>\n",
              "\t<tr><th scope=row>3005</th><td>5213</td><td>0</td><td>1</td><td>13</td><td>25</td><td>NA</td><td>NA</td><td> 75607</td><td>1</td><td>0</td><td>⋯</td><td>0</td><td>413</td><td>0</td><td>28</td><td> NA</td><td>1</td><td>0</td><td> 6</td><td>6.023448</td><td> 36</td></tr>\n",
              "\t<tr><th scope=row>3006</th><td>5218</td><td>0</td><td>1</td><td>12</td><td>25</td><td> 8</td><td>12</td><td> 82135</td><td>1</td><td>0</td><td>⋯</td><td>0</td><td>335</td><td>0</td><td>15</td><td> NA</td><td>1</td><td>0</td><td> 7</td><td>5.814130</td><td> 49</td></tr>\n",
              "\t<tr><th scope=row>3007</th><td>5219</td><td>0</td><td>1</td><td>13</td><td>34</td><td>NA</td><td>NA</td><td> 88765</td><td>1</td><td>0</td><td>⋯</td><td>0</td><td>481</td><td>0</td><td>43</td><td> NA</td><td>1</td><td>1</td><td>15</td><td>6.175867</td><td>225</td></tr>\n",
              "\t<tr><th scope=row>3008</th><td>5220</td><td>0</td><td>1</td><td>12</td><td>24</td><td>11</td><td>NA</td><td> 89271</td><td>0</td><td>0</td><td>⋯</td><td>0</td><td>500</td><td>0</td><td>25</td><td>109</td><td>1</td><td>0</td><td> 6</td><td>6.214608</td><td> 36</td></tr>\n",
              "\t<tr><th scope=row>3009</th><td>5221</td><td>0</td><td>1</td><td>12</td><td>31</td><td>NA</td><td>NA</td><td>110376</td><td>1</td><td>0</td><td>⋯</td><td>0</td><td>713</td><td>0</td><td>32</td><td>107</td><td>1</td><td>1</td><td>13</td><td>6.569481</td><td>169</td></tr>\n",
              "\t<tr><th scope=row>3010</th><td>5225</td><td>0</td><td>1</td><td>13</td><td>26</td><td>NA</td><td>NA</td><td> 81081</td><td>0</td><td>0</td><td>⋯</td><td>0</td><td>525</td><td>1</td><td>27</td><td> NA</td><td>1</td><td>0</td><td> 7</td><td>6.263398</td><td> 49</td></tr>\n",
              "</tbody>\n",
              "</table>\n"
            ],
            "text/markdown": "\nA data.frame: 3010 × 34\n\n| <!--/--> | id &lt;int&gt; | nearc2 &lt;int&gt; | nearc4 &lt;int&gt; | educ &lt;int&gt; | age &lt;int&gt; | fatheduc &lt;int&gt; | motheduc &lt;int&gt; | weight &lt;dbl&gt; | momdad14 &lt;int&gt; | sinmom14 &lt;int&gt; | ⋯ ⋯ | smsa66 &lt;int&gt; | wage &lt;int&gt; | enroll &lt;int&gt; | KWW &lt;int&gt; | IQ &lt;int&gt; | married &lt;int&gt; | libcrd14 &lt;int&gt; | exper &lt;int&gt; | lwage &lt;dbl&gt; | expersq &lt;int&gt; |\n|---|---|---|---|---|---|---|---|---|---|---|---|---|---|---|---|---|---|---|---|---|---|\n| 1 |  2 | 0 | 0 |  7 | 29 | NA | NA | 158413 | 1 | 0 | ⋯ | 1 |  548 | 0 | 15 |  NA | 1 | 0 | 16 | 6.306275 | 256 |\n| 2 |  3 | 0 | 0 | 12 | 27 |  8 |  8 | 380166 | 1 | 0 | ⋯ | 1 |  481 | 0 | 35 |  93 | 1 | 1 |  9 | 6.175867 |  81 |\n| 3 |  4 | 0 | 0 | 12 | 34 | 14 | 12 | 367470 | 1 | 0 | ⋯ | 1 |  721 | 0 | 42 | 103 | 1 | 1 | 16 | 6.580639 | 256 |\n| 4 |  5 | 1 | 1 | 11 | 27 | 11 | 12 | 380166 | 1 | 0 | ⋯ | 1 |  250 | 0 | 25 |  88 | 1 | 1 | 10 | 5.521461 | 100 |\n| 5 |  6 | 1 | 1 | 12 | 34 |  8 |  7 | 367470 | 1 | 0 | ⋯ | 1 |  729 | 0 | 34 | 108 | 1 | 0 | 16 | 6.591674 | 256 |\n| 6 |  7 | 1 | 1 | 12 | 26 |  9 | 12 | 380166 | 1 | 0 | ⋯ | 1 |  500 | 0 | 38 |  85 | 1 | 1 |  8 | 6.214608 |  64 |\n| 7 |  8 | 1 | 1 | 18 | 33 | 14 | 14 | 367470 | 1 | 0 | ⋯ | 1 |  565 | 0 | 41 | 119 | 1 | 1 |  9 | 6.336826 |  81 |\n| 8 |  9 | 1 | 1 | 14 | 29 | 14 | 14 | 496635 | 1 | 0 | ⋯ | 1 |  608 | 0 | 46 | 108 | 1 | 1 |  9 | 6.410175 |  81 |\n| 9 | 10 | 1 | 1 | 12 | 28 | 12 | 12 | 367772 | 1 | 0 | ⋯ | 1 |  425 | 0 | 32 |  96 | 4 | 0 | 10 | 6.052089 | 100 |\n| 10 | 11 | 1 | 1 | 12 | 29 | 12 | 12 | 480445 | 1 | 0 | ⋯ | 1 |  515 | 0 | 34 |  97 | 1 | 1 | 11 | 6.244167 | 121 |\n| 11 | 12 | 1 | 1 |  9 | 28 | 11 | 12 | 380166 | 1 | 0 | ⋯ | 1 |  225 | 0 | 29 |  84 | 1 | 0 | 13 | 5.416101 | 169 |\n| 12 | 13 | 1 | 1 | 12 | 26 | 11 |  6 | 380166 | 1 | 0 | ⋯ | 1 |  400 | 0 | 34 |  89 | 1 | 1 |  8 | 5.991465 |  64 |\n| 13 | 14 | 1 | 1 | 11 | 24 | 11 |  6 | 369567 | 1 | 0 | ⋯ | 1 |  417 | 0 | 22 |  93 | 1 | 1 |  7 | 6.033086 |  49 |\n| 14 | 15 | 1 | 1 | 11 | 30 | 11 |  6 | 496635 | 1 | 0 | ⋯ | 1 |  217 | 0 | 27 |  74 | 1 | 0 | 13 | 5.379897 | 169 |\n| 15 | 16 | 1 | 1 | 16 | 31 | NA |  8 | 648053 | 0 | 1 | ⋯ | 1 |  894 | 0 | 43 | 116 | 1 | 1 |  9 | 6.795706 |  81 |\n| 16 | 17 | 1 | 1 | 14 | 24 | 15 | 12 | 357519 | 1 | 0 | ⋯ | 1 |  300 | 0 | 36 |  NA | 6 | 1 |  4 | 5.703783 |  16 |\n| 17 | 19 | 1 | 1 | 12 | 34 | 12 |  8 | 367470 | 1 | 0 | ⋯ | 1 |  346 | 0 | 40 |  93 | 1 | 1 | 16 | 5.846439 | 256 |\n| 18 | 20 | 1 | 1 | 14 | 29 | NA | 12 | 496635 | 0 | 1 | ⋯ | 1 |  658 | 0 | 35 | 100 | 1 | 1 |  9 | 6.489205 |  81 |\n| 19 | 22 | 1 | 1 | 10 | 26 |  8 |  8 | 367772 | 1 | 0 | ⋯ | 1 |  575 | 0 | 24 |  91 | 6 | 0 | 10 | 6.354370 | 100 |\n| 20 | 25 | 1 | 1 | 12 | 32 |  8 |  8 | 355491 | 1 | 0 | ⋯ | 1 |  649 | 0 | 35 |  88 | 1 | 0 | 14 | 6.475433 | 196 |\n| 21 | 26 | 1 | 1 | 18 | 32 | 12 | 13 | 367470 | 1 | 0 | ⋯ | 1 |  944 | 0 | 43 |  NA | 1 | 1 |  8 | 6.850126 |  64 |\n| 22 | 29 | 1 | 1 | 18 | 34 | NA |  8 | 408301 | 1 | 0 | ⋯ | 1 |  614 | 0 | 50 | 114 | 1 | 1 | 10 | 6.419995 | 100 |\n| 23 | 30 | 1 | 1 | 15 | 32 |  5 | 14 | 367470 | 1 | 0 | ⋯ | 1 |  726 | 0 | 37 | 111 | 1 | 1 | 11 | 6.587550 | 121 |\n| 24 | 31 | 0 | 1 | 12 | 28 | 14 | 12 | 380166 | 1 | 0 | ⋯ | 1 |  604 | 0 | 44 |  NA | 1 | 1 | 10 | 6.403574 | 100 |\n| 25 | 32 | 0 | 1 | 12 | 32 | 11 | 12 | 367470 | 1 | 0 | ⋯ | 1 |  693 | 0 | 44 |  95 | 1 | 1 | 14 | 6.541030 | 196 |\n| 26 | 35 | 0 | 1 | 18 | 34 | 14 | 13 | 367470 | 1 | 0 | ⋯ | 1 | 1400 | 0 | 44 | 132 | 1 | 1 | 10 | 7.244227 | 100 |\n| 27 | 36 | 0 | 1 | 12 | 26 |  7 | 12 | 367772 | 1 | 0 | ⋯ | 1 |  300 | 0 | 27 |  NA | 6 | 1 |  8 | 5.703783 |  64 |\n| 28 | 37 | 0 | 1 | 18 | 32 | 16 | 16 | 355491 | 1 | 0 | ⋯ | 1 | 1800 | 0 | 38 | 109 | 5 | 1 |  8 | 7.495542 |  64 |\n| 29 | 38 | 0 | 1 | 12 | 25 | 11 | 12 | 357519 | 1 | 0 | ⋯ | 1 |  413 | 0 | 43 | 108 | 1 | 1 |  7 | 6.023448 |  49 |\n| 30 | 39 | 0 | 1 | 14 | 29 | NA | 16 | 496635 | 0 | 1 | ⋯ | 0 |  632 | 0 | 45 | 102 | 1 | 1 |  9 | 6.448889 |  81 |\n| ⋮ | ⋮ | ⋮ | ⋮ | ⋮ | ⋮ | ⋮ | ⋮ | ⋮ | ⋮ | ⋮ | ⋱ | ⋮ | ⋮ | ⋮ | ⋮ | ⋮ | ⋮ | ⋮ | ⋮ | ⋮ | ⋮ |\n| 2981 | 5162 | 0 | 0 | 16 | 30 |  5 |  8 | 118905 | 0 | 0 | ⋯ | 0 | 625 | 0 | 35 |  78 | 1 | 1 |  8 | 6.437752 |  64 |\n| 2982 | 5163 | 0 | 0 | 12 | 30 | NA | NA | 118905 | 0 | 0 | ⋯ | 0 | 254 | 0 | 27 |  72 | 5 | 1 | 12 | 5.537334 | 144 |\n| 2983 | 5165 | 0 | 0 |  9 | 27 | NA | NA | 107087 | 0 | 0 | ⋯ | 0 | 450 | 0 | 32 |  75 | 1 | 1 | 12 | 6.109248 | 144 |\n| 2984 | 5166 | 0 | 0 | 12 | 24 | NA | NA |  75607 | 0 | 0 | ⋯ | 0 | 375 | 0 | 27 |  NA | 1 | 1 |  6 | 5.926926 |  36 |\n| 2985 | 5168 | 0 | 0 | 12 | 26 |  0 |  7 |  77507 | 1 | 0 | ⋯ | 0 | 300 | 0 | 30 |  NA | 1 | 1 |  8 | 5.703783 |  64 |\n| 2986 | 5171 | 0 | 0 | 12 | 26 |  8 | 10 |  77507 | 1 | 0 | ⋯ | 0 | 364 | 0 | 30 |  NA | 5 | 1 |  8 | 5.897154 |  64 |\n| 2987 | 5173 | 0 | 0 | 18 | 27 | NA | NA |  77507 | 0 | 0 | ⋯ | 0 | 750 | 0 | 39 |  NA | 1 | 1 |  3 | 6.620073 |   9 |\n| 2988 | 5174 | 0 | 0 | 15 | 28 |  3 |  8 |  77507 | 1 | 0 | ⋯ | 0 | 589 | 0 | 36 |  NA | 1 | 1 |  7 | 6.378426 |  49 |\n| 2989 | 5176 | 0 | 0 | 10 | 31 |  0 |  2 | 117386 | 1 | 0 | ⋯ | 0 | 265 | 0 | 26 |  NA | 1 | 1 | 15 | 5.579730 | 225 |\n| 2990 | 5177 | 0 | 0 |  9 | 25 |  0 |  2 |  75607 | 1 | 0 | ⋯ | 0 | 300 | 0 | 10 |  NA | 5 | 1 | 10 | 5.703783 | 100 |\n| 2991 | 5179 | 0 | 0 |  6 | 33 | NA | NA | 111044 | 1 | 0 | ⋯ | 0 | 390 | 0 | 21 |  NA | 1 | 0 | 21 | 5.966147 | 441 |\n| 2992 | 5184 | 0 | 0 | 10 | 31 | NA | 12 | 119965 | 1 | 0 | ⋯ | 0 | 500 | 0 | 31 |  NA | 1 | 1 | 15 | 6.214608 | 225 |\n| 2993 | 5185 | 0 | 0 | 12 | 29 | NA | 12 | 119965 | 1 | 0 | ⋯ | 0 | 450 | 0 | 38 | 101 | 1 | 1 | 11 | 6.109248 | 121 |\n| 2994 | 5186 | 0 | 0 | 12 | 27 |  7 |  7 |  91831 | 1 | 0 | ⋯ | 0 | 263 | 0 | 33 | 100 | 1 | 1 |  9 | 5.572154 |  81 |\n| 2995 | 5187 | 0 | 0 | 14 | 27 |  5 | 12 |  91831 | 1 | 0 | ⋯ | 0 | 432 | 0 | 38 | 105 | 1 | 1 |  7 | 6.068426 |  49 |\n| 2996 | 5193 | 0 | 0 | 10 | 30 | NA |  4 | 480216 | 1 | 0 | ⋯ | 0 | 192 | 0 | 29 |  NA | 1 | 0 | 14 | 5.257495 | 196 |\n| 2997 | 5196 | 0 | 0 | 14 | 34 |  8 |  8 | 363128 | 1 | 0 | ⋯ | 0 | 829 | 0 | 35 |  NA | 1 | 1 | 14 | 6.720220 | 196 |\n| 2998 | 5199 | 0 | 1 | 16 | 30 | 16 | 16 | 140524 | 1 | 0 | ⋯ | 0 | 513 | 0 | 30 |  82 | 1 | 0 |  8 | 6.240276 |  64 |\n| 2999 | 5200 | 0 | 1 | 13 | 30 |  4 |  9 | 117386 | 1 | 0 | ⋯ | 0 | 529 | 0 | 25 |  NA | 1 | 0 | 11 | 6.270988 | 121 |\n| 3000 | 5204 | 0 | 1 | 16 | 26 | NA | 11 |  91599 | 0 | 1 | ⋯ | 0 | 385 | 0 | 28 |  79 | 1 | 0 |  4 | 5.953243 |  16 |\n| 3001 | 5206 | 0 | 1 | 13 | 27 |  6 |  8 |  91831 | 1 | 0 | ⋯ | 0 | 500 | 0 | 32 | 102 | 1 | 0 |  8 | 6.214608 |  64 |\n| 3002 | 5210 | 0 | 1 | 15 | 29 | 16 | 18 | 119965 | 1 | 0 | ⋯ | 0 | 712 | 0 | 43 |  NA | 1 | 1 |  8 | 6.568078 |  64 |\n| 3003 | 5211 | 0 | 1 | 16 | 27 | 16 | 18 |  91831 | 1 | 0 | ⋯ | 0 | 472 | 0 | 36 |  NA | 1 | 1 |  5 | 6.156979 |  25 |\n| 3004 | 5212 | 0 | 1 | 12 | 24 | NA |  7 |  79093 | 0 | 1 | ⋯ | 0 | 470 | 0 | 22 |  77 | 1 | 0 |  6 | 6.152733 |  36 |\n| 3005 | 5213 | 0 | 1 | 13 | 25 | NA | NA |  75607 | 1 | 0 | ⋯ | 0 | 413 | 0 | 28 |  NA | 1 | 0 |  6 | 6.023448 |  36 |\n| 3006 | 5218 | 0 | 1 | 12 | 25 |  8 | 12 |  82135 | 1 | 0 | ⋯ | 0 | 335 | 0 | 15 |  NA | 1 | 0 |  7 | 5.814130 |  49 |\n| 3007 | 5219 | 0 | 1 | 13 | 34 | NA | NA |  88765 | 1 | 0 | ⋯ | 0 | 481 | 0 | 43 |  NA | 1 | 1 | 15 | 6.175867 | 225 |\n| 3008 | 5220 | 0 | 1 | 12 | 24 | 11 | NA |  89271 | 0 | 0 | ⋯ | 0 | 500 | 0 | 25 | 109 | 1 | 0 |  6 | 6.214608 |  36 |\n| 3009 | 5221 | 0 | 1 | 12 | 31 | NA | NA | 110376 | 1 | 0 | ⋯ | 0 | 713 | 0 | 32 | 107 | 1 | 1 | 13 | 6.569481 | 169 |\n| 3010 | 5225 | 0 | 1 | 13 | 26 | NA | NA |  81081 | 0 | 0 | ⋯ | 0 | 525 | 1 | 27 |  NA | 1 | 0 |  7 | 6.263398 |  49 |\n\n",
            "text/latex": "A data.frame: 3010 × 34\n\\begin{tabular}{r|lllllllllllllllllllll}\n  & id & nearc2 & nearc4 & educ & age & fatheduc & motheduc & weight & momdad14 & sinmom14 & ⋯ & smsa66 & wage & enroll & KWW & IQ & married & libcrd14 & exper & lwage & expersq\\\\\n  & <int> & <int> & <int> & <int> & <int> & <int> & <int> & <dbl> & <int> & <int> & ⋯ & <int> & <int> & <int> & <int> & <int> & <int> & <int> & <int> & <dbl> & <int>\\\\\n\\hline\n\t1 &  2 & 0 & 0 &  7 & 29 & NA & NA & 158413 & 1 & 0 & ⋯ & 1 &  548 & 0 & 15 &  NA & 1 & 0 & 16 & 6.306275 & 256\\\\\n\t2 &  3 & 0 & 0 & 12 & 27 &  8 &  8 & 380166 & 1 & 0 & ⋯ & 1 &  481 & 0 & 35 &  93 & 1 & 1 &  9 & 6.175867 &  81\\\\\n\t3 &  4 & 0 & 0 & 12 & 34 & 14 & 12 & 367470 & 1 & 0 & ⋯ & 1 &  721 & 0 & 42 & 103 & 1 & 1 & 16 & 6.580639 & 256\\\\\n\t4 &  5 & 1 & 1 & 11 & 27 & 11 & 12 & 380166 & 1 & 0 & ⋯ & 1 &  250 & 0 & 25 &  88 & 1 & 1 & 10 & 5.521461 & 100\\\\\n\t5 &  6 & 1 & 1 & 12 & 34 &  8 &  7 & 367470 & 1 & 0 & ⋯ & 1 &  729 & 0 & 34 & 108 & 1 & 0 & 16 & 6.591674 & 256\\\\\n\t6 &  7 & 1 & 1 & 12 & 26 &  9 & 12 & 380166 & 1 & 0 & ⋯ & 1 &  500 & 0 & 38 &  85 & 1 & 1 &  8 & 6.214608 &  64\\\\\n\t7 &  8 & 1 & 1 & 18 & 33 & 14 & 14 & 367470 & 1 & 0 & ⋯ & 1 &  565 & 0 & 41 & 119 & 1 & 1 &  9 & 6.336826 &  81\\\\\n\t8 &  9 & 1 & 1 & 14 & 29 & 14 & 14 & 496635 & 1 & 0 & ⋯ & 1 &  608 & 0 & 46 & 108 & 1 & 1 &  9 & 6.410175 &  81\\\\\n\t9 & 10 & 1 & 1 & 12 & 28 & 12 & 12 & 367772 & 1 & 0 & ⋯ & 1 &  425 & 0 & 32 &  96 & 4 & 0 & 10 & 6.052089 & 100\\\\\n\t10 & 11 & 1 & 1 & 12 & 29 & 12 & 12 & 480445 & 1 & 0 & ⋯ & 1 &  515 & 0 & 34 &  97 & 1 & 1 & 11 & 6.244167 & 121\\\\\n\t11 & 12 & 1 & 1 &  9 & 28 & 11 & 12 & 380166 & 1 & 0 & ⋯ & 1 &  225 & 0 & 29 &  84 & 1 & 0 & 13 & 5.416101 & 169\\\\\n\t12 & 13 & 1 & 1 & 12 & 26 & 11 &  6 & 380166 & 1 & 0 & ⋯ & 1 &  400 & 0 & 34 &  89 & 1 & 1 &  8 & 5.991465 &  64\\\\\n\t13 & 14 & 1 & 1 & 11 & 24 & 11 &  6 & 369567 & 1 & 0 & ⋯ & 1 &  417 & 0 & 22 &  93 & 1 & 1 &  7 & 6.033086 &  49\\\\\n\t14 & 15 & 1 & 1 & 11 & 30 & 11 &  6 & 496635 & 1 & 0 & ⋯ & 1 &  217 & 0 & 27 &  74 & 1 & 0 & 13 & 5.379897 & 169\\\\\n\t15 & 16 & 1 & 1 & 16 & 31 & NA &  8 & 648053 & 0 & 1 & ⋯ & 1 &  894 & 0 & 43 & 116 & 1 & 1 &  9 & 6.795706 &  81\\\\\n\t16 & 17 & 1 & 1 & 14 & 24 & 15 & 12 & 357519 & 1 & 0 & ⋯ & 1 &  300 & 0 & 36 &  NA & 6 & 1 &  4 & 5.703783 &  16\\\\\n\t17 & 19 & 1 & 1 & 12 & 34 & 12 &  8 & 367470 & 1 & 0 & ⋯ & 1 &  346 & 0 & 40 &  93 & 1 & 1 & 16 & 5.846439 & 256\\\\\n\t18 & 20 & 1 & 1 & 14 & 29 & NA & 12 & 496635 & 0 & 1 & ⋯ & 1 &  658 & 0 & 35 & 100 & 1 & 1 &  9 & 6.489205 &  81\\\\\n\t19 & 22 & 1 & 1 & 10 & 26 &  8 &  8 & 367772 & 1 & 0 & ⋯ & 1 &  575 & 0 & 24 &  91 & 6 & 0 & 10 & 6.354370 & 100\\\\\n\t20 & 25 & 1 & 1 & 12 & 32 &  8 &  8 & 355491 & 1 & 0 & ⋯ & 1 &  649 & 0 & 35 &  88 & 1 & 0 & 14 & 6.475433 & 196\\\\\n\t21 & 26 & 1 & 1 & 18 & 32 & 12 & 13 & 367470 & 1 & 0 & ⋯ & 1 &  944 & 0 & 43 &  NA & 1 & 1 &  8 & 6.850126 &  64\\\\\n\t22 & 29 & 1 & 1 & 18 & 34 & NA &  8 & 408301 & 1 & 0 & ⋯ & 1 &  614 & 0 & 50 & 114 & 1 & 1 & 10 & 6.419995 & 100\\\\\n\t23 & 30 & 1 & 1 & 15 & 32 &  5 & 14 & 367470 & 1 & 0 & ⋯ & 1 &  726 & 0 & 37 & 111 & 1 & 1 & 11 & 6.587550 & 121\\\\\n\t24 & 31 & 0 & 1 & 12 & 28 & 14 & 12 & 380166 & 1 & 0 & ⋯ & 1 &  604 & 0 & 44 &  NA & 1 & 1 & 10 & 6.403574 & 100\\\\\n\t25 & 32 & 0 & 1 & 12 & 32 & 11 & 12 & 367470 & 1 & 0 & ⋯ & 1 &  693 & 0 & 44 &  95 & 1 & 1 & 14 & 6.541030 & 196\\\\\n\t26 & 35 & 0 & 1 & 18 & 34 & 14 & 13 & 367470 & 1 & 0 & ⋯ & 1 & 1400 & 0 & 44 & 132 & 1 & 1 & 10 & 7.244227 & 100\\\\\n\t27 & 36 & 0 & 1 & 12 & 26 &  7 & 12 & 367772 & 1 & 0 & ⋯ & 1 &  300 & 0 & 27 &  NA & 6 & 1 &  8 & 5.703783 &  64\\\\\n\t28 & 37 & 0 & 1 & 18 & 32 & 16 & 16 & 355491 & 1 & 0 & ⋯ & 1 & 1800 & 0 & 38 & 109 & 5 & 1 &  8 & 7.495542 &  64\\\\\n\t29 & 38 & 0 & 1 & 12 & 25 & 11 & 12 & 357519 & 1 & 0 & ⋯ & 1 &  413 & 0 & 43 & 108 & 1 & 1 &  7 & 6.023448 &  49\\\\\n\t30 & 39 & 0 & 1 & 14 & 29 & NA & 16 & 496635 & 0 & 1 & ⋯ & 0 &  632 & 0 & 45 & 102 & 1 & 1 &  9 & 6.448889 &  81\\\\\n\t⋮ & ⋮ & ⋮ & ⋮ & ⋮ & ⋮ & ⋮ & ⋮ & ⋮ & ⋮ & ⋮ & ⋱ & ⋮ & ⋮ & ⋮ & ⋮ & ⋮ & ⋮ & ⋮ & ⋮ & ⋮ & ⋮\\\\\n\t2981 & 5162 & 0 & 0 & 16 & 30 &  5 &  8 & 118905 & 0 & 0 & ⋯ & 0 & 625 & 0 & 35 &  78 & 1 & 1 &  8 & 6.437752 &  64\\\\\n\t2982 & 5163 & 0 & 0 & 12 & 30 & NA & NA & 118905 & 0 & 0 & ⋯ & 0 & 254 & 0 & 27 &  72 & 5 & 1 & 12 & 5.537334 & 144\\\\\n\t2983 & 5165 & 0 & 0 &  9 & 27 & NA & NA & 107087 & 0 & 0 & ⋯ & 0 & 450 & 0 & 32 &  75 & 1 & 1 & 12 & 6.109248 & 144\\\\\n\t2984 & 5166 & 0 & 0 & 12 & 24 & NA & NA &  75607 & 0 & 0 & ⋯ & 0 & 375 & 0 & 27 &  NA & 1 & 1 &  6 & 5.926926 &  36\\\\\n\t2985 & 5168 & 0 & 0 & 12 & 26 &  0 &  7 &  77507 & 1 & 0 & ⋯ & 0 & 300 & 0 & 30 &  NA & 1 & 1 &  8 & 5.703783 &  64\\\\\n\t2986 & 5171 & 0 & 0 & 12 & 26 &  8 & 10 &  77507 & 1 & 0 & ⋯ & 0 & 364 & 0 & 30 &  NA & 5 & 1 &  8 & 5.897154 &  64\\\\\n\t2987 & 5173 & 0 & 0 & 18 & 27 & NA & NA &  77507 & 0 & 0 & ⋯ & 0 & 750 & 0 & 39 &  NA & 1 & 1 &  3 & 6.620073 &   9\\\\\n\t2988 & 5174 & 0 & 0 & 15 & 28 &  3 &  8 &  77507 & 1 & 0 & ⋯ & 0 & 589 & 0 & 36 &  NA & 1 & 1 &  7 & 6.378426 &  49\\\\\n\t2989 & 5176 & 0 & 0 & 10 & 31 &  0 &  2 & 117386 & 1 & 0 & ⋯ & 0 & 265 & 0 & 26 &  NA & 1 & 1 & 15 & 5.579730 & 225\\\\\n\t2990 & 5177 & 0 & 0 &  9 & 25 &  0 &  2 &  75607 & 1 & 0 & ⋯ & 0 & 300 & 0 & 10 &  NA & 5 & 1 & 10 & 5.703783 & 100\\\\\n\t2991 & 5179 & 0 & 0 &  6 & 33 & NA & NA & 111044 & 1 & 0 & ⋯ & 0 & 390 & 0 & 21 &  NA & 1 & 0 & 21 & 5.966147 & 441\\\\\n\t2992 & 5184 & 0 & 0 & 10 & 31 & NA & 12 & 119965 & 1 & 0 & ⋯ & 0 & 500 & 0 & 31 &  NA & 1 & 1 & 15 & 6.214608 & 225\\\\\n\t2993 & 5185 & 0 & 0 & 12 & 29 & NA & 12 & 119965 & 1 & 0 & ⋯ & 0 & 450 & 0 & 38 & 101 & 1 & 1 & 11 & 6.109248 & 121\\\\\n\t2994 & 5186 & 0 & 0 & 12 & 27 &  7 &  7 &  91831 & 1 & 0 & ⋯ & 0 & 263 & 0 & 33 & 100 & 1 & 1 &  9 & 5.572154 &  81\\\\\n\t2995 & 5187 & 0 & 0 & 14 & 27 &  5 & 12 &  91831 & 1 & 0 & ⋯ & 0 & 432 & 0 & 38 & 105 & 1 & 1 &  7 & 6.068426 &  49\\\\\n\t2996 & 5193 & 0 & 0 & 10 & 30 & NA &  4 & 480216 & 1 & 0 & ⋯ & 0 & 192 & 0 & 29 &  NA & 1 & 0 & 14 & 5.257495 & 196\\\\\n\t2997 & 5196 & 0 & 0 & 14 & 34 &  8 &  8 & 363128 & 1 & 0 & ⋯ & 0 & 829 & 0 & 35 &  NA & 1 & 1 & 14 & 6.720220 & 196\\\\\n\t2998 & 5199 & 0 & 1 & 16 & 30 & 16 & 16 & 140524 & 1 & 0 & ⋯ & 0 & 513 & 0 & 30 &  82 & 1 & 0 &  8 & 6.240276 &  64\\\\\n\t2999 & 5200 & 0 & 1 & 13 & 30 &  4 &  9 & 117386 & 1 & 0 & ⋯ & 0 & 529 & 0 & 25 &  NA & 1 & 0 & 11 & 6.270988 & 121\\\\\n\t3000 & 5204 & 0 & 1 & 16 & 26 & NA & 11 &  91599 & 0 & 1 & ⋯ & 0 & 385 & 0 & 28 &  79 & 1 & 0 &  4 & 5.953243 &  16\\\\\n\t3001 & 5206 & 0 & 1 & 13 & 27 &  6 &  8 &  91831 & 1 & 0 & ⋯ & 0 & 500 & 0 & 32 & 102 & 1 & 0 &  8 & 6.214608 &  64\\\\\n\t3002 & 5210 & 0 & 1 & 15 & 29 & 16 & 18 & 119965 & 1 & 0 & ⋯ & 0 & 712 & 0 & 43 &  NA & 1 & 1 &  8 & 6.568078 &  64\\\\\n\t3003 & 5211 & 0 & 1 & 16 & 27 & 16 & 18 &  91831 & 1 & 0 & ⋯ & 0 & 472 & 0 & 36 &  NA & 1 & 1 &  5 & 6.156979 &  25\\\\\n\t3004 & 5212 & 0 & 1 & 12 & 24 & NA &  7 &  79093 & 0 & 1 & ⋯ & 0 & 470 & 0 & 22 &  77 & 1 & 0 &  6 & 6.152733 &  36\\\\\n\t3005 & 5213 & 0 & 1 & 13 & 25 & NA & NA &  75607 & 1 & 0 & ⋯ & 0 & 413 & 0 & 28 &  NA & 1 & 0 &  6 & 6.023448 &  36\\\\\n\t3006 & 5218 & 0 & 1 & 12 & 25 &  8 & 12 &  82135 & 1 & 0 & ⋯ & 0 & 335 & 0 & 15 &  NA & 1 & 0 &  7 & 5.814130 &  49\\\\\n\t3007 & 5219 & 0 & 1 & 13 & 34 & NA & NA &  88765 & 1 & 0 & ⋯ & 0 & 481 & 0 & 43 &  NA & 1 & 1 & 15 & 6.175867 & 225\\\\\n\t3008 & 5220 & 0 & 1 & 12 & 24 & 11 & NA &  89271 & 0 & 0 & ⋯ & 0 & 500 & 0 & 25 & 109 & 1 & 0 &  6 & 6.214608 &  36\\\\\n\t3009 & 5221 & 0 & 1 & 12 & 31 & NA & NA & 110376 & 1 & 0 & ⋯ & 0 & 713 & 0 & 32 & 107 & 1 & 1 & 13 & 6.569481 & 169\\\\\n\t3010 & 5225 & 0 & 1 & 13 & 26 & NA & NA &  81081 & 0 & 0 & ⋯ & 0 & 525 & 1 & 27 &  NA & 1 & 0 &  7 & 6.263398 &  49\\\\\n\\end{tabular}\n",
            "text/plain": [
              "     id   nearc2 nearc4 educ age fatheduc motheduc weight momdad14 sinmom14 ⋯\n",
              "1     2   0      0       7   29  NA       NA       158413 1        0        ⋯\n",
              "2     3   0      0      12   27   8        8       380166 1        0        ⋯\n",
              "3     4   0      0      12   34  14       12       367470 1        0        ⋯\n",
              "4     5   1      1      11   27  11       12       380166 1        0        ⋯\n",
              "5     6   1      1      12   34   8        7       367470 1        0        ⋯\n",
              "6     7   1      1      12   26   9       12       380166 1        0        ⋯\n",
              "7     8   1      1      18   33  14       14       367470 1        0        ⋯\n",
              "8     9   1      1      14   29  14       14       496635 1        0        ⋯\n",
              "9    10   1      1      12   28  12       12       367772 1        0        ⋯\n",
              "10   11   1      1      12   29  12       12       480445 1        0        ⋯\n",
              "11   12   1      1       9   28  11       12       380166 1        0        ⋯\n",
              "12   13   1      1      12   26  11        6       380166 1        0        ⋯\n",
              "13   14   1      1      11   24  11        6       369567 1        0        ⋯\n",
              "14   15   1      1      11   30  11        6       496635 1        0        ⋯\n",
              "15   16   1      1      16   31  NA        8       648053 0        1        ⋯\n",
              "16   17   1      1      14   24  15       12       357519 1        0        ⋯\n",
              "17   19   1      1      12   34  12        8       367470 1        0        ⋯\n",
              "18   20   1      1      14   29  NA       12       496635 0        1        ⋯\n",
              "19   22   1      1      10   26   8        8       367772 1        0        ⋯\n",
              "20   25   1      1      12   32   8        8       355491 1        0        ⋯\n",
              "21   26   1      1      18   32  12       13       367470 1        0        ⋯\n",
              "22   29   1      1      18   34  NA        8       408301 1        0        ⋯\n",
              "23   30   1      1      15   32   5       14       367470 1        0        ⋯\n",
              "24   31   0      1      12   28  14       12       380166 1        0        ⋯\n",
              "25   32   0      1      12   32  11       12       367470 1        0        ⋯\n",
              "26   35   0      1      18   34  14       13       367470 1        0        ⋯\n",
              "27   36   0      1      12   26   7       12       367772 1        0        ⋯\n",
              "28   37   0      1      18   32  16       16       355491 1        0        ⋯\n",
              "29   38   0      1      12   25  11       12       357519 1        0        ⋯\n",
              "30   39   0      1      14   29  NA       16       496635 0        1        ⋯\n",
              "⋮    ⋮    ⋮      ⋮      ⋮    ⋮   ⋮        ⋮        ⋮      ⋮        ⋮        ⋱\n",
              "2981 5162 0      0      16   30   5        8       118905 0        0        ⋯\n",
              "2982 5163 0      0      12   30  NA       NA       118905 0        0        ⋯\n",
              "2983 5165 0      0       9   27  NA       NA       107087 0        0        ⋯\n",
              "2984 5166 0      0      12   24  NA       NA        75607 0        0        ⋯\n",
              "2985 5168 0      0      12   26   0        7        77507 1        0        ⋯\n",
              "2986 5171 0      0      12   26   8       10        77507 1        0        ⋯\n",
              "2987 5173 0      0      18   27  NA       NA        77507 0        0        ⋯\n",
              "2988 5174 0      0      15   28   3        8        77507 1        0        ⋯\n",
              "2989 5176 0      0      10   31   0        2       117386 1        0        ⋯\n",
              "2990 5177 0      0       9   25   0        2        75607 1        0        ⋯\n",
              "2991 5179 0      0       6   33  NA       NA       111044 1        0        ⋯\n",
              "2992 5184 0      0      10   31  NA       12       119965 1        0        ⋯\n",
              "2993 5185 0      0      12   29  NA       12       119965 1        0        ⋯\n",
              "2994 5186 0      0      12   27   7        7        91831 1        0        ⋯\n",
              "2995 5187 0      0      14   27   5       12        91831 1        0        ⋯\n",
              "2996 5193 0      0      10   30  NA        4       480216 1        0        ⋯\n",
              "2997 5196 0      0      14   34   8        8       363128 1        0        ⋯\n",
              "2998 5199 0      1      16   30  16       16       140524 1        0        ⋯\n",
              "2999 5200 0      1      13   30   4        9       117386 1        0        ⋯\n",
              "3000 5204 0      1      16   26  NA       11        91599 0        1        ⋯\n",
              "3001 5206 0      1      13   27   6        8        91831 1        0        ⋯\n",
              "3002 5210 0      1      15   29  16       18       119965 1        0        ⋯\n",
              "3003 5211 0      1      16   27  16       18        91831 1        0        ⋯\n",
              "3004 5212 0      1      12   24  NA        7        79093 0        1        ⋯\n",
              "3005 5213 0      1      13   25  NA       NA        75607 1        0        ⋯\n",
              "3006 5218 0      1      12   25   8       12        82135 1        0        ⋯\n",
              "3007 5219 0      1      13   34  NA       NA        88765 1        0        ⋯\n",
              "3008 5220 0      1      12   24  11       NA        89271 0        0        ⋯\n",
              "3009 5221 0      1      12   31  NA       NA       110376 1        0        ⋯\n",
              "3010 5225 0      1      13   26  NA       NA        81081 0        0        ⋯\n",
              "     smsa66 wage enroll KWW IQ  married libcrd14 exper lwage    expersq\n",
              "1    1       548 0      15   NA 1       0        16    6.306275 256    \n",
              "2    1       481 0      35   93 1       1         9    6.175867  81    \n",
              "3    1       721 0      42  103 1       1        16    6.580639 256    \n",
              "4    1       250 0      25   88 1       1        10    5.521461 100    \n",
              "5    1       729 0      34  108 1       0        16    6.591674 256    \n",
              "6    1       500 0      38   85 1       1         8    6.214608  64    \n",
              "7    1       565 0      41  119 1       1         9    6.336826  81    \n",
              "8    1       608 0      46  108 1       1         9    6.410175  81    \n",
              "9    1       425 0      32   96 4       0        10    6.052089 100    \n",
              "10   1       515 0      34   97 1       1        11    6.244167 121    \n",
              "11   1       225 0      29   84 1       0        13    5.416101 169    \n",
              "12   1       400 0      34   89 1       1         8    5.991465  64    \n",
              "13   1       417 0      22   93 1       1         7    6.033086  49    \n",
              "14   1       217 0      27   74 1       0        13    5.379897 169    \n",
              "15   1       894 0      43  116 1       1         9    6.795706  81    \n",
              "16   1       300 0      36   NA 6       1         4    5.703783  16    \n",
              "17   1       346 0      40   93 1       1        16    5.846439 256    \n",
              "18   1       658 0      35  100 1       1         9    6.489205  81    \n",
              "19   1       575 0      24   91 6       0        10    6.354370 100    \n",
              "20   1       649 0      35   88 1       0        14    6.475433 196    \n",
              "21   1       944 0      43   NA 1       1         8    6.850126  64    \n",
              "22   1       614 0      50  114 1       1        10    6.419995 100    \n",
              "23   1       726 0      37  111 1       1        11    6.587550 121    \n",
              "24   1       604 0      44   NA 1       1        10    6.403574 100    \n",
              "25   1       693 0      44   95 1       1        14    6.541030 196    \n",
              "26   1      1400 0      44  132 1       1        10    7.244227 100    \n",
              "27   1       300 0      27   NA 6       1         8    5.703783  64    \n",
              "28   1      1800 0      38  109 5       1         8    7.495542  64    \n",
              "29   1       413 0      43  108 1       1         7    6.023448  49    \n",
              "30   0       632 0      45  102 1       1         9    6.448889  81    \n",
              "⋮    ⋮      ⋮    ⋮      ⋮   ⋮   ⋮       ⋮        ⋮     ⋮        ⋮      \n",
              "2981 0      625  0      35   78 1       1         8    6.437752  64    \n",
              "2982 0      254  0      27   72 5       1        12    5.537334 144    \n",
              "2983 0      450  0      32   75 1       1        12    6.109248 144    \n",
              "2984 0      375  0      27   NA 1       1         6    5.926926  36    \n",
              "2985 0      300  0      30   NA 1       1         8    5.703783  64    \n",
              "2986 0      364  0      30   NA 5       1         8    5.897154  64    \n",
              "2987 0      750  0      39   NA 1       1         3    6.620073   9    \n",
              "2988 0      589  0      36   NA 1       1         7    6.378426  49    \n",
              "2989 0      265  0      26   NA 1       1        15    5.579730 225    \n",
              "2990 0      300  0      10   NA 5       1        10    5.703783 100    \n",
              "2991 0      390  0      21   NA 1       0        21    5.966147 441    \n",
              "2992 0      500  0      31   NA 1       1        15    6.214608 225    \n",
              "2993 0      450  0      38  101 1       1        11    6.109248 121    \n",
              "2994 0      263  0      33  100 1       1         9    5.572154  81    \n",
              "2995 0      432  0      38  105 1       1         7    6.068426  49    \n",
              "2996 0      192  0      29   NA 1       0        14    5.257495 196    \n",
              "2997 0      829  0      35   NA 1       1        14    6.720220 196    \n",
              "2998 0      513  0      30   82 1       0         8    6.240276  64    \n",
              "2999 0      529  0      25   NA 1       0        11    6.270988 121    \n",
              "3000 0      385  0      28   79 1       0         4    5.953243  16    \n",
              "3001 0      500  0      32  102 1       0         8    6.214608  64    \n",
              "3002 0      712  0      43   NA 1       1         8    6.568078  64    \n",
              "3003 0      472  0      36   NA 1       1         5    6.156979  25    \n",
              "3004 0      470  0      22   77 1       0         6    6.152733  36    \n",
              "3005 0      413  0      28   NA 1       0         6    6.023448  36    \n",
              "3006 0      335  0      15   NA 1       0         7    5.814130  49    \n",
              "3007 0      481  0      43   NA 1       1        15    6.175867 225    \n",
              "3008 0      500  0      25  109 1       0         6    6.214608  36    \n",
              "3009 0      713  0      32  107 1       1        13    6.569481 169    \n",
              "3010 0      525  1      27   NA 1       0         7    6.263398  49    "
            ]
          },
          "metadata": {}
        }
      ]
    },
    {
      "cell_type": "code",
      "source": [
        "names(card)"
      ],
      "metadata": {
        "colab": {
          "base_uri": "https://localhost:8080/",
          "height": 52
        },
        "id": "rmy9rB7cbAiV",
        "outputId": "af51b5c2-11c1-459c-b62f-f38d32a661cb"
      },
      "execution_count": null,
      "outputs": [
        {
          "output_type": "display_data",
          "data": {
            "text/html": [
              "<style>\n",
              ".list-inline {list-style: none; margin:0; padding: 0}\n",
              ".list-inline>li {display: inline-block}\n",
              ".list-inline>li:not(:last-child)::after {content: \"\\00b7\"; padding: 0 .5ex}\n",
              "</style>\n",
              "<ol class=list-inline><li>'id'</li><li>'nearc2'</li><li>'nearc4'</li><li>'educ'</li><li>'age'</li><li>'fatheduc'</li><li>'motheduc'</li><li>'weight'</li><li>'momdad14'</li><li>'sinmom14'</li><li>'step14'</li><li>'reg661'</li><li>'reg662'</li><li>'reg663'</li><li>'reg664'</li><li>'reg665'</li><li>'reg666'</li><li>'reg667'</li><li>'reg668'</li><li>'reg669'</li><li>'south66'</li><li>'black'</li><li>'smsa'</li><li>'south'</li><li>'smsa66'</li><li>'wage'</li><li>'enroll'</li><li>'KWW'</li><li>'IQ'</li><li>'married'</li><li>'libcrd14'</li><li>'exper'</li><li>'lwage'</li><li>'expersq'</li></ol>\n"
            ],
            "text/markdown": "1. 'id'\n2. 'nearc2'\n3. 'nearc4'\n4. 'educ'\n5. 'age'\n6. 'fatheduc'\n7. 'motheduc'\n8. 'weight'\n9. 'momdad14'\n10. 'sinmom14'\n11. 'step14'\n12. 'reg661'\n13. 'reg662'\n14. 'reg663'\n15. 'reg664'\n16. 'reg665'\n17. 'reg666'\n18. 'reg667'\n19. 'reg668'\n20. 'reg669'\n21. 'south66'\n22. 'black'\n23. 'smsa'\n24. 'south'\n25. 'smsa66'\n26. 'wage'\n27. 'enroll'\n28. 'KWW'\n29. 'IQ'\n30. 'married'\n31. 'libcrd14'\n32. 'exper'\n33. 'lwage'\n34. 'expersq'\n\n\n",
            "text/latex": "\\begin{enumerate*}\n\\item 'id'\n\\item 'nearc2'\n\\item 'nearc4'\n\\item 'educ'\n\\item 'age'\n\\item 'fatheduc'\n\\item 'motheduc'\n\\item 'weight'\n\\item 'momdad14'\n\\item 'sinmom14'\n\\item 'step14'\n\\item 'reg661'\n\\item 'reg662'\n\\item 'reg663'\n\\item 'reg664'\n\\item 'reg665'\n\\item 'reg666'\n\\item 'reg667'\n\\item 'reg668'\n\\item 'reg669'\n\\item 'south66'\n\\item 'black'\n\\item 'smsa'\n\\item 'south'\n\\item 'smsa66'\n\\item 'wage'\n\\item 'enroll'\n\\item 'KWW'\n\\item 'IQ'\n\\item 'married'\n\\item 'libcrd14'\n\\item 'exper'\n\\item 'lwage'\n\\item 'expersq'\n\\end{enumerate*}\n",
            "text/plain": [
              " [1] \"id\"       \"nearc2\"   \"nearc4\"   \"educ\"     \"age\"      \"fatheduc\"\n",
              " [7] \"motheduc\" \"weight\"   \"momdad14\" \"sinmom14\" \"step14\"   \"reg661\"  \n",
              "[13] \"reg662\"   \"reg663\"   \"reg664\"   \"reg665\"   \"reg666\"   \"reg667\"  \n",
              "[19] \"reg668\"   \"reg669\"   \"south66\"  \"black\"    \"smsa\"     \"south\"   \n",
              "[25] \"smsa66\"   \"wage\"     \"enroll\"   \"KWW\"      \"IQ\"       \"married\" \n",
              "[31] \"libcrd14\" \"exper\"    \"lwage\"    \"expersq\" "
            ]
          },
          "metadata": {}
        }
      ]
    },
    {
      "cell_type": "markdown",
      "source": [
        "El autor está interesado en los retornos de la escolarización sobre los salarios:\n",
        "\\begin{gather*}\n",
        "lnw_i=\\beta_{1} + \\beta_{2}S_i + h_{i}^{'}\\delta + \\epsilon_{i}\n",
        "\\end{gather*}\n",
        "donde $lnw_{i}$ denota el logaritmo de los salarios individuales, $S_{i}$ denota años de escolaridad, y variables adicionales explicatorias $h_{i}$ (años de experiencia, regional, sexo, y dummies raciales). \n",
        "\n",
        "Los controles son: experiencia potencial en años (`experience`), experiencia potencial al cuadrado (`sq_experience`), black: dummy para raza negra, `south`: dummy si el individuo vive en el sur, `smsa`: dummy si el individuo reside en el área metropolitana, `smsa66`: dummy si el individuo reside en el área metropolitana en 1966, `reg662$-$reg668`: set de variables dummy regionales."
      ],
      "metadata": {
        "id": "5MG9GqlaUniy"
      }
    },
    {
      "cell_type": "markdown",
      "source": [
        "**¿Puede existir sesgo de variable omitida?**\n",
        "\n",
        "Por ejemplo, la habilidad $A_i$ es omitida en esta ecuación: \n",
        "\\begin{gather*}\n",
        "lnw_i=\\beta_{1} + \\beta_{2}S_i + \\gamma A_i + h_{i}^{'}\\delta + \\epsilon_{i}\n",
        "\\end{gather*}\n",
        "donde $A_{i}$ es una medida de habilidad."
      ],
      "metadata": {
        "id": "PYZbnTDiXEBU"
      }
    },
    {
      "cell_type": "markdown",
      "source": [
        "**¿Qué consecuencias existen por omitir $A$?**\n",
        "\n",
        "Si $A_i$ es omitida de la ecuación, entonces el estimador MCO de $\\beta$:\n",
        "\\begin{gather*}\n",
        "\\hat{\\beta}_{MCO} → \\beta + \\gamma \\frac{cov(S_i, A_i)}{Var(S_i)}\n",
        "\\end{gather*}\n",
        "\n",
        "Entonces, si la correlación entre $S$ y $A$ es positivo, $\\frac{cov(S_i, A_i)}{Var(S_i)}>0$, entonces $\\hat{\\beta}_{MCO}$ es asintóticamente sesgado hacia arriba."
      ],
      "metadata": {
        "id": "XxKwhvQRXvVn"
      }
    },
    {
      "cell_type": "code",
      "source": [
        "# Modelo 1: variable de habilidad omitida\n",
        "ols1 <- lm(log(wage) ~ educ + exper + expersq + black + south + smsa +\n",
        "             reg661 + reg662 + reg663 + reg664 + reg665 + reg666 +\n",
        "             reg667 + reg668 + smsa66,\n",
        "           data=card)\n",
        "summary(ols1)"
      ],
      "metadata": {
        "colab": {
          "base_uri": "https://localhost:8080/",
          "height": 607
        },
        "id": "XLVLbHKtbUZh",
        "outputId": "1469727a-5377-48d1-b265-3814c18265fb"
      },
      "execution_count": null,
      "outputs": [
        {
          "output_type": "display_data",
          "data": {
            "text/plain": [
              "\n",
              "Call:\n",
              "lm(formula = log(wage) ~ educ + exper + expersq + black + south + \n",
              "    smsa + reg661 + reg662 + reg663 + reg664 + reg665 + reg666 + \n",
              "    reg667 + reg668 + smsa66, data = card)\n",
              "\n",
              "Residuals:\n",
              "     Min       1Q   Median       3Q      Max \n",
              "-1.62326 -0.22141  0.02001  0.23932  1.33340 \n",
              "\n",
              "Coefficients:\n",
              "              Estimate Std. Error t value Pr(>|t|)    \n",
              "(Intercept)  4.7393765  0.0715282  66.259  < 2e-16 ***\n",
              "educ         0.0746933  0.0034983  21.351  < 2e-16 ***\n",
              "exper        0.0848320  0.0066242  12.806  < 2e-16 ***\n",
              "expersq     -0.0022870  0.0003166  -7.223 6.41e-13 ***\n",
              "black       -0.1990123  0.0182483 -10.906  < 2e-16 ***\n",
              "south       -0.1479550  0.0259799  -5.695 1.35e-08 ***\n",
              "smsa         0.1363845  0.0201005   6.785 1.39e-11 ***\n",
              "reg661      -0.1185698  0.0388301  -3.054 0.002281 ** \n",
              "reg662      -0.0222026  0.0282575  -0.786 0.432092    \n",
              "reg663       0.0259703  0.0273644   0.949 0.342670    \n",
              "reg664      -0.0634942  0.0356803  -1.780 0.075254 .  \n",
              "reg665       0.0094550  0.0361174   0.262 0.793504    \n",
              "reg666       0.0219476  0.0400984   0.547 0.584183    \n",
              "reg667      -0.0005888  0.0393793  -0.015 0.988072    \n",
              "reg668      -0.1750058  0.0463394  -3.777 0.000162 ***\n",
              "smsa66       0.0262417  0.0194477   1.349 0.177327    \n",
              "---\n",
              "Signif. codes:  0 ‘***’ 0.001 ‘**’ 0.01 ‘*’ 0.05 ‘.’ 0.1 ‘ ’ 1\n",
              "\n",
              "Residual standard error: 0.3723 on 2994 degrees of freedom\n",
              "Multiple R-squared:  0.2998,\tAdjusted R-squared:  0.2963 \n",
              "F-statistic: 85.48 on 15 and 2994 DF,  p-value: < 2.2e-16\n"
            ]
          },
          "metadata": {}
        }
      ]
    },
    {
      "cell_type": "markdown",
      "source": [
        "El estimador del coeficiente de escolaridad cuando habilidad es ignorado es reproducido en modelo 1."
      ],
      "metadata": {
        "id": "7O_9ZalpbT4o"
      }
    },
    {
      "cell_type": "markdown",
      "source": [
        "En el modelo 2 se incluye en la estimación MCO la medida de habilidad: IQ"
      ],
      "metadata": {
        "id": "HNd7_rjUjH5I"
      }
    },
    {
      "cell_type": "code",
      "source": [
        "# Modelo 2: incluye IQ\n",
        "ols2 <- lm(log(wage) ~ educ + exper + expersq + black + south + smsa +\n",
        "             reg661 + reg662 + reg663 + reg664 + reg665 + reg666 +\n",
        "             reg667 + reg668 + smsa66 + IQ,\n",
        "           data=card)"
      ],
      "metadata": {
        "id": "CMtIBkOMhORZ"
      },
      "execution_count": null,
      "outputs": []
    },
    {
      "cell_type": "code",
      "source": [
        "install.packages(\"memisc\")  # Paquete para realizar tablas\n",
        "library(memisc)"
      ],
      "metadata": {
        "colab": {
          "base_uri": "https://localhost:8080/"
        },
        "id": "UN_XxP5pcLq0",
        "outputId": "7b33f31d-64a8-4622-bed4-fe17ac4f4349"
      },
      "execution_count": null,
      "outputs": [
        {
          "output_type": "stream",
          "name": "stderr",
          "text": [
            "Installing package into ‘/usr/local/lib/R/site-library’\n",
            "(as ‘lib’ is unspecified)\n",
            "\n",
            "Loading required package: lattice\n",
            "\n",
            "Loading required package: MASS\n",
            "\n",
            "\n",
            "Attaching package: ‘memisc’\n",
            "\n",
            "\n",
            "The following objects are masked from ‘package:stats’:\n",
            "\n",
            "    contr.sum, contr.treatment, contrasts\n",
            "\n",
            "\n",
            "The following object is masked from ‘package:base’:\n",
            "\n",
            "    as.array\n",
            "\n",
            "\n"
          ]
        }
      ]
    },
    {
      "cell_type": "code",
      "source": [
        "# Ver los resultados del modelo 1 y 2\n",
        "table_1 <- mtable(\"Modelo 1\" = ols1,\n",
        "                  \"Modelo 2\" = ols2,\n",
        "            summary.stats = c(\"N\", \"R-squared\"),\n",
        "            coef.style = \"default\", \n",
        "            digits=3)\n",
        "table_1"
      ],
      "metadata": {
        "id": "jSS5Lt25dQ70",
        "colab": {
          "base_uri": "https://localhost:8080/",
          "height": 937
        },
        "outputId": "0726b308-d561-479f-a45e-81b38d48acb5"
      },
      "execution_count": null,
      "outputs": [
        {
          "output_type": "display_data",
          "data": {
            "text/plain": [
              "\n",
              "Calls:\n",
              "Modelo 1: lm(formula = log(wage) ~ educ + exper + expersq + black + south + \n",
              "    smsa + reg661 + reg662 + reg663 + reg664 + reg665 + reg666 + \n",
              "    reg667 + reg668 + smsa66, data = card)\n",
              "Modelo 2: lm(formula = log(wage) ~ educ + exper + expersq + black + south + \n",
              "    smsa + reg661 + reg662 + reg663 + reg664 + reg665 + reg666 + \n",
              "    reg667 + reg668 + smsa66 + IQ, data = card)\n",
              "\n",
              "=========================================\n",
              "                Modelo 1     Modelo 2    \n",
              "-----------------------------------------\n",
              "  (Intercept)     4.739***     4.501***  \n",
              "                 (0.072)      (0.106)    \n",
              "  educ            0.075***     0.070***  \n",
              "                 (0.003)      (0.005)    \n",
              "  exper           0.085***     0.095***  \n",
              "                 (0.007)      (0.009)    \n",
              "  expersq        -0.002***    -0.003***  \n",
              "                 (0.000)      (0.000)    \n",
              "  black          -0.199***    -0.148***  \n",
              "                 (0.018)      (0.027)    \n",
              "  south          -0.148***    -0.100**   \n",
              "                 (0.026)      (0.032)    \n",
              "  smsa            0.136***     0.123***  \n",
              "                 (0.020)      (0.024)    \n",
              "  reg661         -0.119**     -0.122**   \n",
              "                 (0.039)      (0.044)    \n",
              "  reg662         -0.022       -0.019     \n",
              "                 (0.028)      (0.032)    \n",
              "  reg663          0.026        0.004     \n",
              "                 (0.027)      (0.031)    \n",
              "  reg664         -0.063       -0.073     \n",
              "                 (0.036)      (0.040)    \n",
              "  reg665          0.009        0.002     \n",
              "                 (0.036)      (0.043)    \n",
              "  reg666          0.022        0.037     \n",
              "                 (0.040)      (0.051)    \n",
              "  reg667         -0.001       -0.031     \n",
              "                 (0.039)      (0.047)    \n",
              "  reg668         -0.175***    -0.170**   \n",
              "                 (0.046)      (0.052)    \n",
              "  smsa66          0.026        0.036     \n",
              "                 (0.019)      (0.023)    \n",
              "  IQ                           0.002***  \n",
              "                              (0.001)    \n",
              "-----------------------------------------\n",
              "  N            3010         2061         \n",
              "  R-squared       0.300        0.237     \n",
              "=========================================\n",
              "  Significance: *** = p < 0.001;   \n",
              "                ** = p < 0.01;   \n",
              "                * = p < 0.05  "
            ]
          },
          "metadata": {}
        }
      ]
    },
    {
      "cell_type": "markdown",
      "source": [
        "Card (1993) propone una estrategia de variables instrumentales mediante la cual instrumentará la escolarización con la variable dummy si el individuo creció cerca de una universidad en el condado (nearc4)\n"
      ],
      "metadata": {
        "id": "CAeWzy-kjo62"
      }
    },
    {
      "cell_type": "markdown",
      "source": [
        "**Validez del instrumento**\n",
        "*   $nearc4$ no debe estar correlacionado con el término de error en la ecuación salarial\n",
        "*   $nearc4$ debe estar correlacionado con la educación.\n",
        "\n",
        "La idea es que los estudiantes que crecen en un área sin universidad enfrentan un costo más alto de educación universitaria, ya que la opción de vivir en una casa está excluida.\n",
        "\n",
        "Entonces, uno esperaría que este costo más alto reduzca la inversión en educación superior, al menos entre los hijos de familias de ingresos relativamente bajos."
      ],
      "metadata": {
        "id": "kSFb53FskUva"
      }
    },
    {
      "cell_type": "code",
      "source": [
        "install.packages(\"AER\")\n",
        "library(AER)"
      ],
      "metadata": {
        "colab": {
          "base_uri": "https://localhost:8080/"
        },
        "id": "-KjgCo7xlijf",
        "outputId": "50224a7e-f9ef-4721-d5f5-72154f8206cf"
      },
      "execution_count": null,
      "outputs": [
        {
          "output_type": "stream",
          "name": "stderr",
          "text": [
            "Installing package into ‘/usr/local/lib/R/site-library’\n",
            "(as ‘lib’ is unspecified)\n",
            "\n",
            "also installing the dependencies ‘minqa’, ‘RcppEigen’, ‘pbkrtest’, ‘quantreg’, ‘lme4’, ‘car’, ‘lmtest’, ‘sandwich’\n",
            "\n",
            "\n",
            "Loading required package: car\n",
            "\n",
            "Loading required package: carData\n",
            "\n",
            "\n",
            "Attaching package: ‘car’\n",
            "\n",
            "\n",
            "The following object is masked from ‘package:memisc’:\n",
            "\n",
            "    recode\n",
            "\n",
            "\n",
            "Loading required package: lmtest\n",
            "\n",
            "Loading required package: zoo\n",
            "\n",
            "\n",
            "Attaching package: ‘zoo’\n",
            "\n",
            "\n",
            "The following objects are masked from ‘package:base’:\n",
            "\n",
            "    as.Date, as.Date.numeric\n",
            "\n",
            "\n",
            "Loading required package: sandwich\n",
            "\n",
            "Loading required package: survival\n",
            "\n"
          ]
        }
      ]
    },
    {
      "cell_type": "code",
      "source": [
        "# Modelo 3: estimación de variables instrumentales\n",
        "iv1  <- ivreg(log(wage) ~ educ + exper + expersq + black + south + smsa +\n",
        "                reg661 + reg662 + reg663 + reg664 + reg665 + reg666 +\n",
        "                reg667 + reg668 + smsa66 |\n",
        "                exper + expersq + black + south + smsa + reg661 + reg662 + \n",
        "                reg663 + reg664 + reg665 + reg666 + reg667 + reg668 + smsa66 + nearc4,\n",
        "              data=card)"
      ],
      "metadata": {
        "id": "QGBuL1VajoIu"
      },
      "execution_count": null,
      "outputs": []
    },
    {
      "cell_type": "code",
      "source": [
        "# Ver los resultados del modelo 1, 2 y 3\n",
        "table_2 <- mtable(\"Modelo 1: MCO\" = ols1,\n",
        "                  \"Modelo 2: MCO - IQ\" = ols2,\n",
        "                  \"Modelo 3: IV\" = iv1,\n",
        "            summary.stats = c(\"N\", \"R-squared\"),\n",
        "            coef.style = \"default\", \n",
        "            digits=3)\n",
        "table_2"
      ],
      "metadata": {
        "colab": {
          "base_uri": "https://localhost:8080/",
          "height": 989
        },
        "id": "alAWQcT9lf0W",
        "outputId": "dbff6a5e-93a8-4e1e-f7ac-809bdc875cf1"
      },
      "execution_count": null,
      "outputs": [
        {
          "output_type": "display_data",
          "data": {
            "text/plain": [
              "\n",
              "Calls:\n",
              "Modelo 1: MCO: lm(formula = log(wage) ~ educ + exper + expersq + black + south + \n",
              "    smsa + reg661 + reg662 + reg663 + reg664 + reg665 + reg666 + \n",
              "    reg667 + reg668 + smsa66, data = card)\n",
              "Modelo 2: MCO - IQ: lm(formula = log(wage) ~ educ + exper + expersq + black + south + \n",
              "    smsa + reg661 + reg662 + reg663 + reg664 + reg665 + reg666 + \n",
              "    reg667 + reg668 + smsa66 + IQ, data = card)\n",
              "Modelo 3: IV: ivreg(formula = log(wage) ~ educ + exper + expersq + black + \n",
              "    south + smsa + reg661 + reg662 + reg663 + reg664 + reg665 + \n",
              "    reg666 + reg667 + reg668 + smsa66 | exper + expersq + black + \n",
              "    south + smsa + reg661 + reg662 + reg663 + reg664 + reg665 + \n",
              "    reg666 + reg667 + reg668 + smsa66 + nearc4, data = card)\n",
              "\n",
              "================================================================\n",
              "               Modelo 1: MCO  Modelo 2: MCO - IQ  Modelo 3: IV  \n",
              "----------------------------------------------------------------\n",
              "  (Intercept)      4.739***         4.501***         3.774***   \n",
              "                  (0.072)          (0.106)          (0.935)     \n",
              "  educ             0.075***         0.070***         0.132*     \n",
              "                  (0.003)          (0.005)          (0.055)     \n",
              "  exper            0.085***         0.095***         0.108***   \n",
              "                  (0.007)          (0.009)          (0.024)     \n",
              "  expersq         -0.002***        -0.003***        -0.002***   \n",
              "                  (0.000)          (0.000)          (0.000)     \n",
              "  black           -0.199***        -0.148***        -0.147**    \n",
              "                  (0.018)          (0.027)          (0.054)     \n",
              "  south           -0.148***        -0.100**         -0.145***   \n",
              "                  (0.026)          (0.032)          (0.027)     \n",
              "  smsa             0.136***         0.123***         0.112***   \n",
              "                  (0.020)          (0.024)          (0.032)     \n",
              "  reg661          -0.119**         -0.122**         -0.108**    \n",
              "                  (0.039)          (0.044)          (0.042)     \n",
              "  reg662          -0.022           -0.019           -0.007      \n",
              "                  (0.028)          (0.032)          (0.033)     \n",
              "  reg663           0.026            0.004            0.040      \n",
              "                  (0.027)          (0.031)          (0.032)     \n",
              "  reg664          -0.063           -0.073           -0.058      \n",
              "                  (0.036)          (0.040)          (0.038)     \n",
              "  reg665           0.009            0.002            0.038      \n",
              "                  (0.036)          (0.043)          (0.047)     \n",
              "  reg666           0.022            0.037            0.055      \n",
              "                  (0.040)          (0.051)          (0.053)     \n",
              "  reg667          -0.001           -0.031            0.027      \n",
              "                  (0.039)          (0.047)          (0.049)     \n",
              "  reg668          -0.175***        -0.170**         -0.191***   \n",
              "                  (0.046)          (0.052)          (0.051)     \n",
              "  smsa66           0.026            0.036            0.019      \n",
              "                  (0.019)          (0.023)          (0.022)     \n",
              "  IQ                                0.002***                    \n",
              "                                   (0.001)                      \n",
              "----------------------------------------------------------------\n",
              "  N             3010             2061             3010          \n",
              "  R-squared        0.300            0.237            0.238      \n",
              "================================================================\n",
              "  Significance: *** = p < 0.001; ** = p < 0.01; * = p < 0.05  "
            ]
          },
          "metadata": {}
        }
      ]
    },
    {
      "cell_type": "markdown",
      "source": [
        "Curiosamente, la estimación IV del retorno a la educación es casi dos veces ($\\frac{0.132}{0.075}=2$) tan grande como la estimación MCO de la columna 2, pero el error estándar de la estimación IV es más de 18 veces ($\\frac{0.055}{0.003}=18$) mayor que el error estándar de MCO.\n",
        "\n",
        "Asimismo, el intervalo de confianza del 95% de la estimación IV tiene un rango muy amplio. Los intervalos de confianza más grandes son un precio que debemos pagar para obtener un estimador consistente del retorno a la educación cuando pensamos que la educación es endógena."
      ],
      "metadata": {
        "id": "vJTViA2WmxHi"
      }
    },
    {
      "cell_type": "markdown",
      "source": [
        "Pero **¿es nearc4 un instrumento valido?**\n",
        "\n",
        "**Requisito 1:** el instrumento debe estar correlacionado con la educación una vez que se hayan eliminado otras variables exógenas ($south$, $smsa$, etc).\n",
        "\n",
        "Para verificar este requisito estimamos $educ$ en $nearc4$ y todas las variables exógenas que aparecen en la ecuación. "
      ],
      "metadata": {
        "id": "hMnEUYPena9r"
      }
    },
    {
      "cell_type": "code",
      "source": [
        "# Modelo 4: educ ~ nearc4\n",
        "red  <- lm(educ ~ nearc4 + exper + expersq + black + south + smsa + \n",
        "             reg661 + reg662 + reg663 + reg664 + reg665 + reg666 +\n",
        "             reg667 + reg668 + smsa66,\n",
        "           data=card) "
      ],
      "metadata": {
        "id": "eo1Wt6IFmwe-"
      },
      "execution_count": null,
      "outputs": []
    },
    {
      "cell_type": "code",
      "source": [
        "# Ver los resultados del modelo 1, 2, 3 y 4\n",
        "table_3 <- mtable(\"Modelo 1: MCO\" = ols1,\n",
        "                  \"Modelo 2: MCO - IQ\" = ols2,\n",
        "                  \"Modelo 3: IV\" = iv1,\n",
        "                  \"Modelo 4\"=red,\n",
        "            summary.stats = c(\"N\", \"R-squared\"),\n",
        "            coef.style = \"default\", \n",
        "            digits=3)\n",
        "table_3"
      ],
      "metadata": {
        "colab": {
          "base_uri": "https://localhost:8080/",
          "height": 1000
        },
        "id": "O04AFlFJnZIr",
        "outputId": "b9c12276-ac72-471a-edf2-887e0ec4a56b"
      },
      "execution_count": null,
      "outputs": [
        {
          "output_type": "display_data",
          "data": {
            "text/plain": [
              "\n",
              "Calls:\n",
              "Modelo 1: MCO: lm(formula = log(wage) ~ educ + exper + expersq + black + south + \n",
              "    smsa + reg661 + reg662 + reg663 + reg664 + reg665 + reg666 + \n",
              "    reg667 + reg668 + smsa66, data = card)\n",
              "Modelo 2: MCO - IQ: lm(formula = log(wage) ~ educ + exper + expersq + black + south + \n",
              "    smsa + reg661 + reg662 + reg663 + reg664 + reg665 + reg666 + \n",
              "    reg667 + reg668 + smsa66 + IQ, data = card)\n",
              "Modelo 3: IV: ivreg(formula = log(wage) ~ educ + exper + expersq + black + \n",
              "    south + smsa + reg661 + reg662 + reg663 + reg664 + reg665 + \n",
              "    reg666 + reg667 + reg668 + smsa66 | exper + expersq + black + \n",
              "    south + smsa + reg661 + reg662 + reg663 + reg664 + reg665 + \n",
              "    reg666 + reg667 + reg668 + smsa66 + nearc4, data = card)\n",
              "Modelo 4: lm(formula = educ ~ nearc4 + exper + expersq + black + south + \n",
              "    smsa + reg661 + reg662 + reg663 + reg664 + reg665 + reg666 + \n",
              "    reg667 + reg668 + smsa66, data = card)\n",
              "\n",
              "=============================================================================\n",
              "               Modelo 1: MCO  Modelo 2: MCO - IQ  Modelo 3: IV   Modelo 4    \n",
              "                -----------      -----------      -----------   -----------  \n",
              "                 log(wage)        log(wage)        log(wage)       educ      \n",
              "-----------------------------------------------------------------------------\n",
              "  (Intercept)      4.739***         4.501***         3.774***     16.849***  \n",
              "                  (0.072)          (0.106)          (0.935)       (0.211)    \n",
              "  educ             0.075***         0.070***         0.132*                  \n",
              "                  (0.003)          (0.005)          (0.055)                  \n",
              "  exper            0.085***         0.095***         0.108***     -0.413***  \n",
              "                  (0.007)          (0.009)          (0.024)       (0.034)    \n",
              "  expersq         -0.002***        -0.003***        -0.002***      0.001     \n",
              "                  (0.000)          (0.000)          (0.000)       (0.002)    \n",
              "  black           -0.199***        -0.148***        -0.147**      -0.936***  \n",
              "                  (0.018)          (0.027)          (0.054)       (0.094)    \n",
              "  south           -0.148***        -0.100**         -0.145***     -0.052     \n",
              "                  (0.026)          (0.032)          (0.027)       (0.135)    \n",
              "  smsa             0.136***         0.123***         0.112***      0.402***  \n",
              "                  (0.020)          (0.024)          (0.032)       (0.105)    \n",
              "  reg661          -0.119**         -0.122**         -0.108**      -0.210     \n",
              "                  (0.039)          (0.044)          (0.042)       (0.202)    \n",
              "  reg662          -0.022           -0.019           -0.007        -0.289*    \n",
              "                  (0.028)          (0.032)          (0.033)       (0.147)    \n",
              "  reg663           0.026            0.004            0.040        -0.238     \n",
              "                  (0.027)          (0.031)          (0.032)       (0.143)    \n",
              "  reg664          -0.063           -0.073           -0.058        -0.093     \n",
              "                  (0.036)          (0.040)          (0.038)       (0.186)    \n",
              "  reg665           0.009            0.002            0.038        -0.483*    \n",
              "                  (0.036)          (0.043)          (0.047)       (0.188)    \n",
              "  reg666           0.022            0.037            0.055        -0.513*    \n",
              "                  (0.040)          (0.051)          (0.053)       (0.210)    \n",
              "  reg667          -0.001           -0.031            0.027        -0.427*    \n",
              "                  (0.039)          (0.047)          (0.049)       (0.206)    \n",
              "  reg668          -0.175***        -0.170**         -0.191***      0.314     \n",
              "                  (0.046)          (0.052)          (0.051)       (0.242)    \n",
              "  smsa66           0.026            0.036            0.019         0.025     \n",
              "                  (0.019)          (0.023)          (0.022)       (0.106)    \n",
              "  IQ                                0.002***                                 \n",
              "                                   (0.001)                                   \n",
              "  nearc4                                                           0.320***  \n",
              "                                                                  (0.088)    \n",
              "-----------------------------------------------------------------------------\n",
              "  N             3010             2061             3010          3010         \n",
              "  R-squared        0.300            0.237            0.238         0.477     \n",
              "=============================================================================\n",
              "  Significance: *** = p < 0.001; ** = p < 0.01; * = p < 0.05  "
            ]
          },
          "metadata": {}
        }
      ]
    },
    {
      "cell_type": "markdown",
      "source": [
        "En igualdad de condiciones, las personas que vivían cerca de una universidad en 1966 tenían, en promedio, aproximadamente un tercio (el coeficiente es 0.32) de un año más de educación que las que no crecieron cerca de una universidad."
      ],
      "metadata": {
        "id": "ex54a3EAocjj"
      }
    },
    {
      "cell_type": "markdown",
      "source": [
        "**¿Existe un problema con el instrumento?**\n",
        "*   Recuerde que el estadístico $F$ para la significancia (conjunta) de los instrumentos en la primera etapa debe exceder a 10."
      ],
      "metadata": {
        "id": "Ql1kca9Lof-p"
      }
    },
    {
      "cell_type": "code",
      "source": [
        "estF <- (0.320/0.088)^2\n",
        "estF"
      ],
      "metadata": {
        "colab": {
          "base_uri": "https://localhost:8080/",
          "height": 34
        },
        "id": "mFo_JYwho_10",
        "outputId": "25555c19-ed2b-4b2e-e00d-72f2c443c39c"
      },
      "execution_count": null,
      "outputs": [
        {
          "output_type": "display_data",
          "data": {
            "text/html": [
              "13.2231404958678"
            ],
            "text/markdown": "13.2231404958678",
            "text/latex": "13.2231404958678",
            "text/plain": [
              "[1] 13.22314"
            ]
          },
          "metadata": {}
        }
      ]
    },
    {
      "cell_type": "markdown",
      "source": [
        "En este caso, dado que tenemos solo un instrumento, el estadístico $F$ es ($(\\frac{0.320}{0.088})^2 = 13.22$), que es mayor a 10. Entonces, nuestro instrumento es lo suficiente fuerte.\n"
      ],
      "metadata": {
        "id": "QTOiHFDypAzh"
      }
    },
    {
      "cell_type": "markdown",
      "source": [
        "**Requisito 2:** El instrumento no debe estar correlacionado con el término de error en la ecuación salarial. "
      ],
      "metadata": {
        "id": "ZVOqfhITpc6g"
      }
    },
    {
      "cell_type": "markdown",
      "source": [
        "Sin embargo, esto es difícil de probarse. Por lo tanto, para que la proximidad a la universidad ($nearc4$) sirva como un instrumento legítimo para la educación completa, debe afectar las decisiones individuales de escolarización, pero no afectar directamente en los ingresos."
      ],
      "metadata": {
        "id": "nblrJSv_pk3o"
      }
    },
    {
      "cell_type": "markdown",
      "source": [
        "**Hay al menos tres razones** por las cuales los individuos que crecieron cerca de una universidad pueden tener mayores ganancias que otros individuos, controlando la educación, la información geográfica y los antecedentes de los padres.\n",
        "\n",
        "1.   Las familias que ponen un fuerte énfasis en la educación pueden optar por vivir cerca de una universidad. Los hijos de estas familias pueden tener una mayor capacidad o pueden estar más motivados para lograr el éxito en el mercado laboral. En cualquier caso, podríamos tener una correlación positiva entre la proximidad a la universidad y $\\epsilon$.\n",
        "2.   La presencia de una universidad puede estar asociada con una mayor calidad escolar en las escuelas primarias y secundarias cercanas.\n",
        "3.   Si los individuos que crecieron en áreas con una universidad cercana tienden a vivir en áreas con salarios más altos, entonces la proximidad a la universidad puede estar correlacionada con primas salariales geográficas no observadas."
      ],
      "metadata": {
        "id": "oG41IDyLqb2w"
      }
    },
    {
      "cell_type": "markdown",
      "source": [
        "Recuerde que no estamos controlando la habilidad, por lo que esta variable va al término de error.\n",
        "\n",
        "Sin embargo, como explicamos anteriormente, podría darse al caso de que las familias elijan vivir cerca de una universidad y que sus hijos tengan una mayor capacidad."
      ],
      "metadata": {
        "id": "laqRn5zFp_4t"
      }
    },
    {
      "cell_type": "markdown",
      "source": [
        "**¿Podría $nearc4$ estar correlacionado con algo en el término de error, como la habilidad no observada?**\n",
        "\n",
        "Se sabe que los puntajes de IQ varían según la región geográfica, y también lo hace la disponibilidad de la universidad. Podría ser que, por una variedad de razones, las personas con habilidades superiores crecen en áreas con universidades cercanas."
      ],
      "metadata": {
        "id": "YigplrLVq9SW"
      }
    },
    {
      "cell_type": "code",
      "source": [
        "# Modelo 5\n",
        "iq1 <- lm(IQ ~ nearc4,\n",
        "          data=card)\n",
        "summary(iq1)"
      ],
      "metadata": {
        "colab": {
          "base_uri": "https://localhost:8080/",
          "height": 347
        },
        "id": "y8HDqiFWrVaE",
        "outputId": "65d11638-614c-4aeb-946f-3f56484e4093"
      },
      "execution_count": null,
      "outputs": [
        {
          "output_type": "display_data",
          "data": {
            "text/plain": [
              "\n",
              "Call:\n",
              "lm(formula = IQ ~ nearc4, data = card)\n",
              "\n",
              "Residuals:\n",
              "    Min      1Q  Median      3Q     Max \n",
              "-50.611  -9.207   0.793  10.793  45.793 \n",
              "\n",
              "Coefficients:\n",
              "            Estimate Std. Error t value Pr(>|t|)    \n",
              "(Intercept) 100.6106     0.6275 160.347  < 2e-16 ***\n",
              "nearc4        2.5962     0.7455   3.483 0.000507 ***\n",
              "---\n",
              "Signif. codes:  0 ‘***’ 0.001 ‘**’ 0.01 ‘*’ 0.05 ‘.’ 0.1 ‘ ’ 1\n",
              "\n",
              "Residual standard error: 15.38 on 2059 degrees of freedom\n",
              "  (949 observations deleted due to missingness)\n",
              "Multiple R-squared:  0.005856,\tAdjusted R-squared:  0.005373 \n",
              "F-statistic: 12.13 on 1 and 2059 DF,  p-value: 0.0005071\n"
            ]
          },
          "metadata": {}
        }
      ]
    },
    {
      "cell_type": "markdown",
      "source": [
        "El puntaje predicho de $IQ$ es aproximadamente 2.6 puntos más alto para un hombre que creció cerca de una universidad. La diferencia es estadísticamente significativa. En otras palabras, el instrumento está correlacionado con alguna variable que sabemos que afecta las ganancias y está en el término de error. Por lo tanto, la condición $E(z_i, \\epsilon_i)$ no se cumple."
      ],
      "metadata": {
        "id": "tuOetCGgrvFU"
      }
    },
    {
      "cell_type": "markdown",
      "source": [
        "Pero **¿qué sucede si controlamos por otras dummies regionales?**"
      ],
      "metadata": {
        "id": "9oShmtuesIMI"
      }
    },
    {
      "cell_type": "markdown",
      "source": [
        "Estimamos la misma regresión que el modelo 5 pero ahora controlamos para $smsa$, $smsa66$ y variables dummies regionales."
      ],
      "metadata": {
        "id": "F6JylzNpsMyK"
      }
    },
    {
      "cell_type": "code",
      "source": [
        "# Modelo 6\n",
        "iq2 <- lm(IQ ~ nearc4 + reg661 + reg662 + reg663 + reg664 + reg665 + reg666 +\n",
        "            reg667 + reg668 + smsa66,\n",
        "          data=card)\n",
        "summary(iq2)"
      ],
      "metadata": {
        "colab": {
          "base_uri": "https://localhost:8080/",
          "height": 520
        },
        "id": "dyh4CTVPrkeV",
        "outputId": "24dc0530-99ec-4f4b-e554-9a85ba131456"
      },
      "execution_count": null,
      "outputs": [
        {
          "output_type": "display_data",
          "data": {
            "text/plain": [
              "\n",
              "Call:\n",
              "lm(formula = IQ ~ nearc4 + reg661 + reg662 + reg663 + reg664 + \n",
              "    reg665 + reg666 + reg667 + reg668 + smsa66, data = card)\n",
              "\n",
              "Residuals:\n",
              "    Min      1Q  Median      3Q     Max \n",
              "-53.310  -9.735   0.621  10.621  45.681 \n",
              "\n",
              "Coefficients:\n",
              "             Estimate Std. Error t value Pr(>|t|)    \n",
              "(Intercept) 101.88156    1.29206  78.852  < 2e-16 ***\n",
              "nearc4        0.34790    0.81441   0.427 0.669295    \n",
              "reg661        2.89192    1.79738   1.609 0.107779    \n",
              "reg662        3.99120    1.29372   3.085 0.002062 ** \n",
              "reg663        1.33262    1.25900   1.058 0.289963    \n",
              "reg664        2.34942    1.63510   1.437 0.150910    \n",
              "reg665       -5.58354    1.32245  -4.222 2.53e-05 ***\n",
              "reg666       -4.52926    1.69772  -2.668 0.007694 ** \n",
              "reg667       -5.50249    1.51966  -3.621 0.000301 ***\n",
              "reg668       -0.03306    2.11067  -0.016 0.987505    \n",
              "smsa66        1.08917    0.80870   1.347 0.178190    \n",
              "---\n",
              "Signif. codes:  0 ‘***’ 0.001 ‘**’ 0.01 ‘*’ 0.05 ‘.’ 0.1 ‘ ’ 1\n",
              "\n",
              "Residual standard error: 14.97 on 2050 degrees of freedom\n",
              "  (949 observations deleted due to missingness)\n",
              "Multiple R-squared:  0.06264,\tAdjusted R-squared:  0.05807 \n",
              "F-statistic:  13.7 on 10 and 2050 DF,  p-value: < 2.2e-16\n"
            ]
          },
          "metadata": {}
        }
      ]
    },
    {
      "cell_type": "markdown",
      "source": [
        "Ahora, la relación entre $iq$ y $nearc4$ es mucho más débil y estadísticamente insignificante. En otras palabras, una vez que controlamos la región y el entorno mientras crecemos, no hay un vínculo aparente entre el puntaje de IQ y vivir cerca de una universidad. \n",
        "\n",
        "Esto implica que es importante incluir estas variables en la ecuación salarial para controlar las diferencias en el acceso a las universidades que también podrían estar correlacionadas con la habilidad."
      ],
      "metadata": {
        "id": "teZFtOr3saFL"
      }
    },
    {
      "cell_type": "code",
      "source": [
        "# Ver los resultados del modelo 1, 2, 3, 4, 5, y 6\n",
        "table_4 <- mtable(\"Modelo 1: MCO\" = ols1,\n",
        "                  \"Modelo 2: MCO - IQ\" = ols2,\n",
        "                  \"Modelo 3: IV\" = iv1,\n",
        "                  \"Modelo 4\"=red,\n",
        "                  \"Modelo 5\"=iq1,\n",
        "                  \"Modelo 6\"=iq2,\n",
        "            summary.stats = c(\"N\", \"R-squared\"),\n",
        "            coef.style = \"default\", \n",
        "            digits=3)\n",
        "table_4"
      ],
      "metadata": {
        "colab": {
          "base_uri": "https://localhost:8080/",
          "height": 1000
        },
        "id": "5Qvar98Qsu6_",
        "outputId": "600cd5a3-7a2f-4cc3-85e7-cf6b048534d0"
      },
      "execution_count": null,
      "outputs": [
        {
          "output_type": "display_data",
          "data": {
            "text/plain": [
              "\n",
              "Calls:\n",
              "Modelo 1: MCO: lm(formula = log(wage) ~ educ + exper + expersq + black + south + \n",
              "    smsa + reg661 + reg662 + reg663 + reg664 + reg665 + reg666 + \n",
              "    reg667 + reg668 + smsa66, data = card)\n",
              "Modelo 2: MCO - IQ: lm(formula = log(wage) ~ educ + exper + expersq + black + south + \n",
              "    smsa + reg661 + reg662 + reg663 + reg664 + reg665 + reg666 + \n",
              "    reg667 + reg668 + smsa66 + IQ, data = card)\n",
              "Modelo 3: IV: ivreg(formula = log(wage) ~ educ + exper + expersq + black + \n",
              "    south + smsa + reg661 + reg662 + reg663 + reg664 + reg665 + \n",
              "    reg666 + reg667 + reg668 + smsa66 | exper + expersq + black + \n",
              "    south + smsa + reg661 + reg662 + reg663 + reg664 + reg665 + \n",
              "    reg666 + reg667 + reg668 + smsa66 + nearc4, data = card)\n",
              "Modelo 4: lm(formula = educ ~ nearc4 + exper + expersq + black + south + \n",
              "    smsa + reg661 + reg662 + reg663 + reg664 + reg665 + reg666 + \n",
              "    reg667 + reg668 + smsa66, data = card)\n",
              "Modelo 5: lm(formula = IQ ~ nearc4, data = card)\n",
              "Modelo 6: lm(formula = IQ ~ nearc4 + reg661 + reg662 + reg663 + reg664 + \n",
              "    reg665 + reg666 + reg667 + reg668 + smsa66, data = card)\n",
              "\n",
              "=======================================================================================================\n",
              "               Modelo 1: MCO  Modelo 2: MCO - IQ  Modelo 3: IV   Modelo 4     Modelo 5     Modelo 6    \n",
              "                -----------      -----------      -----------   -----------  -----------  -----------  \n",
              "                 log(wage)        log(wage)        log(wage)       educ          IQ           IQ       \n",
              "-------------------------------------------------------------------------------------------------------\n",
              "  (Intercept)      4.739***         4.501***         3.774***     16.849***   100.611***   101.882***  \n",
              "                  (0.072)          (0.106)          (0.935)       (0.211)      (0.627)      (1.292)    \n",
              "  educ             0.075***         0.070***         0.132*                                            \n",
              "                  (0.003)          (0.005)          (0.055)                                            \n",
              "  exper            0.085***         0.095***         0.108***     -0.413***                            \n",
              "                  (0.007)          (0.009)          (0.024)       (0.034)                              \n",
              "  expersq         -0.002***        -0.003***        -0.002***      0.001                               \n",
              "                  (0.000)          (0.000)          (0.000)       (0.002)                              \n",
              "  black           -0.199***        -0.148***        -0.147**      -0.936***                            \n",
              "                  (0.018)          (0.027)          (0.054)       (0.094)                              \n",
              "  south           -0.148***        -0.100**         -0.145***     -0.052                               \n",
              "                  (0.026)          (0.032)          (0.027)       (0.135)                              \n",
              "  smsa             0.136***         0.123***         0.112***      0.402***                            \n",
              "                  (0.020)          (0.024)          (0.032)       (0.105)                              \n",
              "  reg661          -0.119**         -0.122**         -0.108**      -0.210                     2.892     \n",
              "                  (0.039)          (0.044)          (0.042)       (0.202)                   (1.797)    \n",
              "  reg662          -0.022           -0.019           -0.007        -0.289*                    3.991**   \n",
              "                  (0.028)          (0.032)          (0.033)       (0.147)                   (1.294)    \n",
              "  reg663           0.026            0.004            0.040        -0.238                     1.333     \n",
              "                  (0.027)          (0.031)          (0.032)       (0.143)                   (1.259)    \n",
              "  reg664          -0.063           -0.073           -0.058        -0.093                     2.349     \n",
              "                  (0.036)          (0.040)          (0.038)       (0.186)                   (1.635)    \n",
              "  reg665           0.009            0.002            0.038        -0.483*                   -5.584***  \n",
              "                  (0.036)          (0.043)          (0.047)       (0.188)                   (1.322)    \n",
              "  reg666           0.022            0.037            0.055        -0.513*                   -4.529**   \n",
              "                  (0.040)          (0.051)          (0.053)       (0.210)                   (1.698)    \n",
              "  reg667          -0.001           -0.031            0.027        -0.427*                   -5.502***  \n",
              "                  (0.039)          (0.047)          (0.049)       (0.206)                   (1.520)    \n",
              "  reg668          -0.175***        -0.170**         -0.191***      0.314                    -0.033     \n",
              "                  (0.046)          (0.052)          (0.051)       (0.242)                   (2.111)    \n",
              "  smsa66           0.026            0.036            0.019         0.025                     1.089     \n",
              "                  (0.019)          (0.023)          (0.022)       (0.106)                   (0.809)    \n",
              "  IQ                                0.002***                                                           \n",
              "                                   (0.001)                                                             \n",
              "  nearc4                                                           0.320***     2.596***     0.348     \n",
              "                                                                  (0.088)      (0.745)      (0.814)    \n",
              "-------------------------------------------------------------------------------------------------------\n",
              "  N             3010             2061             3010          3010         2061         2061         \n",
              "  R-squared        0.300            0.237            0.238         0.477        0.006        0.063     \n",
              "=======================================================================================================\n",
              "  Significance: *** = p < 0.001; ** = p < 0.01; * = p < 0.05  "
            ]
          },
          "metadata": {}
        }
      ]
    }
  ]
}